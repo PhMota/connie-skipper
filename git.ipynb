{
 "cells": [
  {
   "cell_type": "code",
   "execution_count": 72,
   "metadata": {},
   "outputs": [
    {
     "name": "stdout",
     "output_type": "stream",
     "text": [
      "# On branch feature-extraction\n",
      "# Changes not staged for commit:\n",
      "#   (use \"git add <file>...\" to update what will be committed)\n",
      "#   (use \"git checkout -- <file>...\" to discard changes in working directory)\n",
      "#\n",
      "#\t\u001b[31mmodified:   connie_skipper/accessors.py\u001b[m\n",
      "#\t\u001b[31mmodified:   git.ipynb\u001b[m\n",
      "#\t\u001b[31mmodified:   skipper.ipynb\u001b[m\n",
      "#\n",
      "no changes added to commit (use \"git add\" and/or \"git commit -a\")\n"
     ]
    }
   ],
   "source": [
    "!git status"
   ]
  },
  {
   "cell_type": "code",
   "execution_count": 20,
   "metadata": {},
   "outputs": [
    {
     "name": "stdout",
     "output_type": "stream",
     "text": [
      "Overwriting .gitignore\n"
     ]
    }
   ],
   "source": [
    "%%file .gitignore\n",
    "__pycache__\n",
    ".ipynb_checkpoints"
   ]
  },
  {
   "cell_type": "code",
   "execution_count": 18,
   "metadata": {},
   "outputs": [],
   "source": [
    "!git add require*"
   ]
  },
  {
   "cell_type": "markdown",
   "metadata": {},
   "source": [
    "# Create a new branch from main to add a feature\n",
    "\n",
    "```\n",
    "git checkout main\n",
    "git checkout -b [feature]\n",
    "```"
   ]
  },
  {
   "cell_type": "code",
   "execution_count": 70,
   "metadata": {},
   "outputs": [
    {
     "name": "stdout",
     "output_type": "stream",
     "text": [
      "M\tconnie_skipper/accessors.py\n",
      "M\tconnie_skipper/io.py\n",
      "M\tgit.ipynb\n",
      "M\tskipper.ipynb\n",
      "Already on 'main'\n",
      "M\tconnie_skipper/accessors.py\n",
      "M\tconnie_skipper/io.py\n",
      "M\tgit.ipynb\n",
      "M\tskipper.ipynb\n",
      "Switched to a new branch 'feature-extraction'\n"
     ]
    }
   ],
   "source": [
    "!git checkout main\n",
    "!git checkout -b \"feature-extraction\""
   ]
  },
  {
   "cell_type": "markdown",
   "metadata": {},
   "source": [
    "## Commit work\n",
    "\n",
    "```\n",
    "git commit -am \"description\"\n",
    "```"
   ]
  },
  {
   "cell_type": "code",
   "execution_count": 73,
   "metadata": {},
   "outputs": [
    {
     "name": "stdout",
     "output_type": "stream",
     "text": [
      "[feature-extraction a5be36c] binary_dilation and darkcurrent\n",
      " 3 files changed, 489 insertions(+), 64 deletions(-)\n"
     ]
    }
   ],
   "source": [
    "!git commit -am \"binary_dilation and darkcurrent\""
   ]
  },
  {
   "cell_type": "markdown",
   "metadata": {},
   "source": [
    "## Merge into master\n",
    "\n",
    "```\n",
    "git checkout master\n",
    "git merge [feature]\n",
    "```"
   ]
  },
  {
   "cell_type": "code",
   "execution_count": 62,
   "metadata": {},
   "outputs": [
    {
     "name": "stdout",
     "output_type": "stream",
     "text": [
      "[hotfix f8bc131] merge hotfix\n",
      " 2 files changed, 29 insertions(+), 10 deletions(-)\n",
      "Switched to branch 'main'\n",
      "Your branch is ahead of 'origin/main' by 4 commits.\n",
      "  (use \"git push\" to publish your local commits)\n",
      "Updating 5bec6e9..f8bc131\n",
      "Fast-forward\n",
      " connie_skipper/accessors.py | 194 \u001b[32m+++++++++++++++\u001b[m\u001b[31m------------\u001b[m\n",
      " git.ipynb                   |  41 \u001b[32m+++\u001b[m\u001b[31m---\u001b[m\n",
      " skipper.ipynb               | 314 \u001b[32m+++++++++++++++++++++++++++++\u001b[m\u001b[31m---------------\u001b[m\n",
      " 3 files changed, 344 insertions(+), 205 deletions(-)\n"
     ]
    }
   ],
   "source": [
    "!git commit -am \"merge hotfix\" && git checkout main && git merge hotfix"
   ]
  },
  {
   "cell_type": "code",
   "execution_count": 68,
   "metadata": {},
   "outputs": [
    {
     "name": "stdout",
     "output_type": "stream",
     "text": [
      "[main cef1a51] noise and dc evolution manually\n",
      " 3 files changed, 350 insertions(+), 99 deletions(-)\n"
     ]
    }
   ],
   "source": [
    "!git commit -am \"noise and dc evolution manually\""
   ]
  },
  {
   "cell_type": "code",
   "execution_count": 32,
   "metadata": {},
   "outputs": [
    {
     "data": {
      "text/plain": [
       "724"
      ]
     },
     "execution_count": 32,
     "metadata": {},
     "output_type": "execute_result"
    }
   ],
   "source": [
    "724\n",
    "1248"
   ]
  },
  {
   "cell_type": "code",
   "execution_count": null,
   "metadata": {},
   "outputs": [],
   "source": []
  }
 ],
 "metadata": {
  "kernelspec": {
   "display_name": "Python 3",
   "language": "python",
   "name": "python3"
  },
  "language_info": {
   "codemirror_mode": {
    "name": "ipython",
    "version": 3
   },
   "file_extension": ".py",
   "mimetype": "text/x-python",
   "name": "python",
   "nbconvert_exporter": "python",
   "pygments_lexer": "ipython3",
   "version": "3.6.3"
  }
 },
 "nbformat": 4,
 "nbformat_minor": 4
}
