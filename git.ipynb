{
 "cells": [
  {
   "cell_type": "code",
   "execution_count": 27,
   "metadata": {},
   "outputs": [
    {
     "name": "stdout",
     "output_type": "stream",
     "text": [
      "# On branch main\n",
      "# Your branch is ahead of 'origin/main' by 1 commit.\n",
      "#   (use \"git push\" to publish your local commits)\n",
      "#\n",
      "# Changes to be committed:\n",
      "#   (use \"git reset HEAD <file>...\" to unstage)\n",
      "#\n",
      "#\tnew file:   connie_skipper/__init__.py\n",
      "#\tnew file:   connie_skipper/accessors.py\n",
      "#\tnew file:   connie_skipper/io.py\n",
      "#\tnew file:   skipper.ipynb\n",
      "#\n",
      "# Changes not staged for commit:\n",
      "#   (use \"git add <file>...\" to update what will be committed)\n",
      "#   (use \"git checkout -- <file>...\" to discard changes in working directory)\n",
      "#\n",
      "#\tmodified:   .gitignore\n",
      "#\tmodified:   git.ipynb\n",
      "#\n"
     ]
    }
   ],
   "source": [
    "!git status"
   ]
  },
  {
   "cell_type": "code",
   "execution_count": 20,
   "metadata": {},
   "outputs": [
    {
     "name": "stdout",
     "output_type": "stream",
     "text": [
      "Overwriting .gitignore\n"
     ]
    }
   ],
   "source": [
    "%%file .gitignore\n",
    "__pycache__\n",
    ".ipynb_checkpoints"
   ]
  },
  {
   "cell_type": "code",
   "execution_count": 26,
   "metadata": {},
   "outputs": [
    {
     "name": "stdout",
     "output_type": "stream",
     "text": [
      "rm 'connie_skipper/__pycache__/__init__.cpython-36.pyc'\n",
      "rm 'connie_skipper/__pycache__/accessors.cpython-36.pyc'\n",
      "rm 'connie_skipper/__pycache__/io.cpython-36.pyc'\n"
     ]
    }
   ],
   "source": [
    "!git rm *__pycache__* -f"
   ]
  },
  {
   "cell_type": "code",
   "execution_count": 28,
   "metadata": {},
   "outputs": [
    {
     "name": "stdout",
     "output_type": "stream",
     "text": [
      "[main aa83022] ignore __pycache__\n",
      " 6 files changed, 3439 insertions(+), 16 deletions(-)\n",
      " create mode 100644 connie_skipper/__init__.py\n",
      " create mode 100644 connie_skipper/accessors.py\n",
      " create mode 100644 connie_skipper/io.py\n",
      " create mode 100644 skipper.ipynb\n"
     ]
    }
   ],
   "source": [
    "!git commit -am \"ignore __pycache__\""
   ]
  },
  {
   "cell_type": "code",
   "execution_count": null,
   "metadata": {},
   "outputs": [],
   "source": []
  }
 ],
 "metadata": {
  "kernelspec": {
   "display_name": "Python 3",
   "language": "python",
   "name": "python3"
  },
  "language_info": {
   "codemirror_mode": {
    "name": "ipython",
    "version": 3
   },
   "file_extension": ".py",
   "mimetype": "text/x-python",
   "name": "python",
   "nbconvert_exporter": "python",
   "pygments_lexer": "ipython3",
   "version": "3.6.3"
  }
 },
 "nbformat": 4,
 "nbformat_minor": 4
}
