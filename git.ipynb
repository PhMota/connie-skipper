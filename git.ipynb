{
 "cells": [
  {
   "cell_type": "code",
   "execution_count": 3,
   "metadata": {},
   "outputs": [
    {
     "name": "stdout",
     "output_type": "stream",
     "text": [
      "# On branch main\n",
      "# Your branch is ahead of 'origin/main' by 1 commit.\n",
      "#   (use \"git push\" to publish your local commits)\n",
      "#\n",
      "nothing to commit, working directory clean\n"
     ]
    }
   ],
   "source": [
    "!git status"
   ]
  },
  {
   "cell_type": "code",
   "execution_count": 20,
   "metadata": {},
   "outputs": [
    {
     "name": "stdout",
     "output_type": "stream",
     "text": [
      "Overwriting .gitignore\n"
     ]
    }
   ],
   "source": [
    "%%file .gitignore\n",
    "__pycache__\n",
    ".ipynb_checkpoints"
   ]
  },
  {
   "cell_type": "code",
   "execution_count": 26,
   "metadata": {},
   "outputs": [
    {
     "name": "stdout",
     "output_type": "stream",
     "text": [
      "rm 'connie_skipper/__pycache__/__init__.cpython-36.pyc'\n",
      "rm 'connie_skipper/__pycache__/accessors.cpython-36.pyc'\n",
      "rm 'connie_skipper/__pycache__/io.cpython-36.pyc'\n"
     ]
    }
   ],
   "source": [
    "!git rm *__pycache__* -f"
   ]
  },
  {
   "cell_type": "code",
   "execution_count": 1,
   "metadata": {},
   "outputs": [
    {
     "name": "stdout",
     "output_type": "stream",
     "text": [
      "[main 73dc87a] ipywidgets\n",
      " 4 files changed, 417 insertions(+), 1522 deletions(-)\n",
      " rewrite skipper.ipynb (96%)\n"
     ]
    }
   ],
   "source": [
    "!git commit -am \"ipywidgets\""
   ]
  },
  {
   "cell_type": "code",
   "execution_count": null,
   "metadata": {},
   "outputs": [],
   "source": []
  }
 ],
 "metadata": {
  "kernelspec": {
   "display_name": "Python 3",
   "language": "python",
   "name": "python3"
  },
  "language_info": {
   "codemirror_mode": {
    "name": "ipython",
    "version": 3
   },
   "file_extension": ".py",
   "mimetype": "text/x-python",
   "name": "python",
   "nbconvert_exporter": "python",
   "pygments_lexer": "ipython3",
   "version": "3.6.3"
  }
 },
 "nbformat": 4,
 "nbformat_minor": 4
}
