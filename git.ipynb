{
 "cells": [
  {
   "cell_type": "code",
   "execution_count": 23,
   "metadata": {},
   "outputs": [
    {
     "name": "stdout",
     "output_type": "stream",
     "text": [
      "# On branch main\n",
      "# Your branch is ahead of 'origin/main' by 1 commit.\n",
      "#   (use \"git push\" to publish your local commits)\n",
      "#\n",
      "# Changes to be committed:\n",
      "#   (use \"git reset HEAD <file>...\" to unstage)\n",
      "#\n",
      "#\tnew file:   connie_skipper/__init__.py\n",
      "#\tnew file:   connie_skipper/__pycache__/__init__.cpython-36.pyc\n",
      "#\tnew file:   connie_skipper/__pycache__/accessors.cpython-36.pyc\n",
      "#\tnew file:   connie_skipper/__pycache__/io.cpython-36.pyc\n",
      "#\tnew file:   connie_skipper/accessors.py\n",
      "#\tnew file:   connie_skipper/io.py\n",
      "#\tnew file:   skipper.ipynb\n",
      "#\n",
      "# Changes not staged for commit:\n",
      "#   (use \"git add <file>...\" to update what will be committed)\n",
      "#   (use \"git checkout -- <file>...\" to discard changes in working directory)\n",
      "#\n",
      "#\tmodified:   .gitignore\n",
      "#\n"
     ]
    }
   ],
   "source": [
    "!git status"
   ]
  },
  {
   "cell_type": "code",
   "execution_count": 20,
   "metadata": {},
   "outputs": [
    {
     "name": "stdout",
     "output_type": "stream",
     "text": [
      "Overwriting .gitignore\n"
     ]
    }
   ],
   "source": [
    "%%file .gitignore\n",
    "__pycache__\n",
    ".ipynb_checkpoints"
   ]
  },
  {
   "cell_type": "code",
   "execution_count": 25,
   "metadata": {},
   "outputs": [
    {
     "name": "stdout",
     "output_type": "stream",
     "text": [
      "error: 'connie_skipper/__pycache__/__init__.cpython-36.pyc' has changes staged in the index\n",
      "(use --cached to keep the file, or -f to force removal)\n",
      "error: 'connie_skipper/__pycache__/accessors.cpython-36.pyc' has changes staged in the index\n",
      "(use --cached to keep the file, or -f to force removal)\n",
      "error: 'connie_skipper/__pycache__/io.cpython-36.pyc' has changes staged in the index\n",
      "(use --cached to keep the file, or -f to force removal)\n"
     ]
    }
   ],
   "source": [
    "!git rm *__pycache__*"
   ]
  },
  {
   "cell_type": "code",
   "execution_count": 13,
   "metadata": {},
   "outputs": [
    {
     "name": "stdout",
     "output_type": "stream",
     "text": [
      "[main 48564b7] add mad and center\n",
      " 3 files changed, 31 insertions(+), 2316 deletions(-)\n",
      " delete mode 100644 connie-skipper/__init__.py\n",
      " delete mode 100644 connie-skipper/skipper.ipynb\n",
      "Username for 'https://github.com': ^C\n"
     ]
    }
   ],
   "source": [
    "!git commit -am \"add mad and center\"\n",
    "!git push"
   ]
  },
  {
   "cell_type": "code",
   "execution_count": null,
   "metadata": {},
   "outputs": [],
   "source": []
  }
 ],
 "metadata": {
  "kernelspec": {
   "display_name": "Python 3",
   "language": "python",
   "name": "python3"
  },
  "language_info": {
   "codemirror_mode": {
    "name": "ipython",
    "version": 3
   },
   "file_extension": ".py",
   "mimetype": "text/x-python",
   "name": "python",
   "nbconvert_exporter": "python",
   "pygments_lexer": "ipython3",
   "version": "3.6.3"
  }
 },
 "nbformat": 4,
 "nbformat_minor": 4
}
