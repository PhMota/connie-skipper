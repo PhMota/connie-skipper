{
 "cells": [
  {
   "cell_type": "code",
   "execution_count": 6,
   "metadata": {},
   "outputs": [
    {
     "name": "stdout",
     "output_type": "stream",
     "text": [
      "# On branch main\n",
      "# Changes to be committed:\n",
      "#   (use \"git reset HEAD <file>...\" to unstage)\n",
      "#\n",
      "#\tnew file:   install.sh\n",
      "#\tnew file:   installremote.sh\n",
      "#\tnew file:   run.sh\n",
      "#\tnew file:   runremote.sh\n",
      "#\n",
      "# Changes not staged for commit:\n",
      "#   (use \"git add <file>...\" to update what will be committed)\n",
      "#   (use \"git checkout -- <file>...\" to discard changes in working directory)\n",
      "#\n",
      "#\tmodified:   git.ipynb\n",
      "#\tmodified:   skipper.ipynb\n",
      "#\n"
     ]
    }
   ],
   "source": [
    "!git status"
   ]
  },
  {
   "cell_type": "code",
   "execution_count": 20,
   "metadata": {},
   "outputs": [
    {
     "name": "stdout",
     "output_type": "stream",
     "text": [
      "Overwriting .gitignore\n"
     ]
    }
   ],
   "source": [
    "%%file .gitignore\n",
    "__pycache__\n",
    ".ipynb_checkpoints"
   ]
  },
  {
   "cell_type": "code",
   "execution_count": 5,
   "metadata": {},
   "outputs": [],
   "source": [
    "!git add *.sh"
   ]
  },
  {
   "cell_type": "code",
   "execution_count": 7,
   "metadata": {},
   "outputs": [
    {
     "name": "stdout",
     "output_type": "stream",
     "text": [
      "[main 60f340d] scripts to run remotely\n",
      " 6 files changed, 42 insertions(+), 81 deletions(-)\n",
      " create mode 100644 install.sh\n",
      " create mode 100644 installremote.sh\n",
      " create mode 100644 run.sh\n",
      " create mode 100644 runremote.sh\n"
     ]
    }
   ],
   "source": [
    "!git commit -am \"test runremote script\""
   ]
  },
  {
   "cell_type": "code",
   "execution_count": null,
   "metadata": {},
   "outputs": [],
   "source": []
  }
 ],
 "metadata": {
  "kernelspec": {
   "display_name": "Python 3",
   "language": "python",
   "name": "python3"
  },
  "language_info": {
   "codemirror_mode": {
    "name": "ipython",
    "version": 3
   },
   "file_extension": ".py",
   "mimetype": "text/x-python",
   "name": "python",
   "nbconvert_exporter": "python",
   "pygments_lexer": "ipython3",
   "version": "3.6.3"
  }
 },
 "nbformat": 4,
 "nbformat_minor": 4
}
