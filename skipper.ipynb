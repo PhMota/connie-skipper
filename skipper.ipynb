{
 "cells": [
  {
   "cell_type": "markdown",
   "metadata": {},
   "source": [
    "# connie-skipper\n",
    "\n",
    "Repository at [https://github.com/PhMota/connie-skipper]()"
   ]
  },
  {
   "cell_type": "code",
   "execution_count": 23,
   "metadata": {},
   "outputs": [
    {
     "name": "stdout",
     "output_type": "stream",
     "text": [
      "The autoreload extension is already loaded. To reload it, use:\n",
      "  %reload_ext autoreload\n"
     ]
    }
   ],
   "source": [
    "%load_ext autoreload\n",
    "import numpy as np\n",
    "import matplotlib.pyplot as plt\n",
    "import gc"
   ]
  },
  {
   "cell_type": "code",
   "execution_count": 24,
   "metadata": {},
   "outputs": [],
   "source": [
    "%matplotlib widget"
   ]
  },
  {
   "cell_type": "code",
   "execution_count": 25,
   "metadata": {},
   "outputs": [],
   "source": [
    "fpath = \"imgs/full_masterskp_NSAMP1_img_20.fz\"\n",
    "figures = {}"
   ]
  },
  {
   "cell_type": "code",
   "execution_count": 26,
   "metadata": {},
   "outputs": [],
   "source": [
    "%autoreload 2\n",
    "import xarray as xr\n",
    "import connie_skipper as sk"
   ]
  },
  {
   "cell_type": "code",
   "execution_count": 27,
   "metadata": {},
   "outputs": [],
   "source": [
    "import warnings\n",
    "warnings.simplefilter(\"ignore\", category=xr.core.extensions.AccessorRegistrationWarning)"
   ]
  },
  {
   "cell_type": "code",
   "execution_count": 29,
   "metadata": {},
   "outputs": [],
   "source": [
    "# plt.cla()\n",
    "# plt.clf()\n",
    "# print( gc.collect() )\n",
    "# print( plt.get_fignums() )"
   ]
  },
  {
   "cell_type": "markdown",
   "metadata": {},
   "source": [
    "# load image\n",
    "\n",
    "One image is loaded as a `DataArray` with dimensions `chid`, `row` and `col`.\n",
    "All attributes from the HDUs is kept in the `DataArray`"
   ]
  },
  {
   "cell_type": "code",
   "execution_count": 30,
   "metadata": {},
   "outputs": [],
   "source": [
    "da = sk.fits_to_DataArray(fpath)"
   ]
  },
  {
   "cell_type": "code",
   "execution_count": 31,
   "metadata": {},
   "outputs": [
    {
     "data": {
      "text/html": [
       "<div><svg style=\"position: absolute; width: 0; height: 0; overflow: hidden\">\n",
       "<defs>\n",
       "<symbol id=\"icon-database\" viewBox=\"0 0 32 32\">\n",
       "<path d=\"M16 0c-8.837 0-16 2.239-16 5v4c0 2.761 7.163 5 16 5s16-2.239 16-5v-4c0-2.761-7.163-5-16-5z\"></path>\n",
       "<path d=\"M16 17c-8.837 0-16-2.239-16-5v6c0 2.761 7.163 5 16 5s16-2.239 16-5v-6c0 2.761-7.163 5-16 5z\"></path>\n",
       "<path d=\"M16 26c-8.837 0-16-2.239-16-5v6c0 2.761 7.163 5 16 5s16-2.239 16-5v-6c0 2.761-7.163 5-16 5z\"></path>\n",
       "</symbol>\n",
       "<symbol id=\"icon-file-text2\" viewBox=\"0 0 32 32\">\n",
       "<path d=\"M28.681 7.159c-0.694-0.947-1.662-2.053-2.724-3.116s-2.169-2.030-3.116-2.724c-1.612-1.182-2.393-1.319-2.841-1.319h-15.5c-1.378 0-2.5 1.121-2.5 2.5v27c0 1.378 1.122 2.5 2.5 2.5h23c1.378 0 2.5-1.122 2.5-2.5v-19.5c0-0.448-0.137-1.23-1.319-2.841zM24.543 5.457c0.959 0.959 1.712 1.825 2.268 2.543h-4.811v-4.811c0.718 0.556 1.584 1.309 2.543 2.268zM28 29.5c0 0.271-0.229 0.5-0.5 0.5h-23c-0.271 0-0.5-0.229-0.5-0.5v-27c0-0.271 0.229-0.5 0.5-0.5 0 0 15.499-0 15.5 0v7c0 0.552 0.448 1 1 1h7v19.5z\"></path>\n",
       "<path d=\"M23 26h-14c-0.552 0-1-0.448-1-1s0.448-1 1-1h14c0.552 0 1 0.448 1 1s-0.448 1-1 1z\"></path>\n",
       "<path d=\"M23 22h-14c-0.552 0-1-0.448-1-1s0.448-1 1-1h14c0.552 0 1 0.448 1 1s-0.448 1-1 1z\"></path>\n",
       "<path d=\"M23 18h-14c-0.552 0-1-0.448-1-1s0.448-1 1-1h14c0.552 0 1 0.448 1 1s-0.448 1-1 1z\"></path>\n",
       "</symbol>\n",
       "</defs>\n",
       "</svg>\n",
       "<style>/* CSS stylesheet for displaying xarray objects in jupyterlab.\n",
       " *\n",
       " */\n",
       "\n",
       ":root {\n",
       "  --xr-font-color0: var(--jp-content-font-color0, rgba(0, 0, 0, 1));\n",
       "  --xr-font-color2: var(--jp-content-font-color2, rgba(0, 0, 0, 0.54));\n",
       "  --xr-font-color3: var(--jp-content-font-color3, rgba(0, 0, 0, 0.38));\n",
       "  --xr-border-color: var(--jp-border-color2, #e0e0e0);\n",
       "  --xr-disabled-color: var(--jp-layout-color3, #bdbdbd);\n",
       "  --xr-background-color: var(--jp-layout-color0, white);\n",
       "  --xr-background-color-row-even: var(--jp-layout-color1, white);\n",
       "  --xr-background-color-row-odd: var(--jp-layout-color2, #eeeeee);\n",
       "}\n",
       "\n",
       "html[theme=dark],\n",
       "body.vscode-dark {\n",
       "  --xr-font-color0: rgba(255, 255, 255, 1);\n",
       "  --xr-font-color2: rgba(255, 255, 255, 0.54);\n",
       "  --xr-font-color3: rgba(255, 255, 255, 0.38);\n",
       "  --xr-border-color: #1F1F1F;\n",
       "  --xr-disabled-color: #515151;\n",
       "  --xr-background-color: #111111;\n",
       "  --xr-background-color-row-even: #111111;\n",
       "  --xr-background-color-row-odd: #313131;\n",
       "}\n",
       "\n",
       ".xr-wrap {\n",
       "  display: block;\n",
       "  min-width: 300px;\n",
       "  max-width: 700px;\n",
       "}\n",
       "\n",
       ".xr-text-repr-fallback {\n",
       "  /* fallback to plain text repr when CSS is not injected (untrusted notebook) */\n",
       "  display: none;\n",
       "}\n",
       "\n",
       ".xr-header {\n",
       "  padding-top: 6px;\n",
       "  padding-bottom: 6px;\n",
       "  margin-bottom: 4px;\n",
       "  border-bottom: solid 1px var(--xr-border-color);\n",
       "}\n",
       "\n",
       ".xr-header > div,\n",
       ".xr-header > ul {\n",
       "  display: inline;\n",
       "  margin-top: 0;\n",
       "  margin-bottom: 0;\n",
       "}\n",
       "\n",
       ".xr-obj-type,\n",
       ".xr-array-name {\n",
       "  margin-left: 2px;\n",
       "  margin-right: 10px;\n",
       "}\n",
       "\n",
       ".xr-obj-type {\n",
       "  color: var(--xr-font-color2);\n",
       "}\n",
       "\n",
       ".xr-sections {\n",
       "  padding-left: 0 !important;\n",
       "  display: grid;\n",
       "  grid-template-columns: 150px auto auto 1fr 20px 20px;\n",
       "}\n",
       "\n",
       ".xr-section-item {\n",
       "  display: contents;\n",
       "}\n",
       "\n",
       ".xr-section-item input {\n",
       "  display: none;\n",
       "}\n",
       "\n",
       ".xr-section-item input + label {\n",
       "  color: var(--xr-disabled-color);\n",
       "}\n",
       "\n",
       ".xr-section-item input:enabled + label {\n",
       "  cursor: pointer;\n",
       "  color: var(--xr-font-color2);\n",
       "}\n",
       "\n",
       ".xr-section-item input:enabled + label:hover {\n",
       "  color: var(--xr-font-color0);\n",
       "}\n",
       "\n",
       ".xr-section-summary {\n",
       "  grid-column: 1;\n",
       "  color: var(--xr-font-color2);\n",
       "  font-weight: 500;\n",
       "}\n",
       "\n",
       ".xr-section-summary > span {\n",
       "  display: inline-block;\n",
       "  padding-left: 0.5em;\n",
       "}\n",
       "\n",
       ".xr-section-summary-in:disabled + label {\n",
       "  color: var(--xr-font-color2);\n",
       "}\n",
       "\n",
       ".xr-section-summary-in + label:before {\n",
       "  display: inline-block;\n",
       "  content: '►';\n",
       "  font-size: 11px;\n",
       "  width: 15px;\n",
       "  text-align: center;\n",
       "}\n",
       "\n",
       ".xr-section-summary-in:disabled + label:before {\n",
       "  color: var(--xr-disabled-color);\n",
       "}\n",
       "\n",
       ".xr-section-summary-in:checked + label:before {\n",
       "  content: '▼';\n",
       "}\n",
       "\n",
       ".xr-section-summary-in:checked + label > span {\n",
       "  display: none;\n",
       "}\n",
       "\n",
       ".xr-section-summary,\n",
       ".xr-section-inline-details {\n",
       "  padding-top: 4px;\n",
       "  padding-bottom: 4px;\n",
       "}\n",
       "\n",
       ".xr-section-inline-details {\n",
       "  grid-column: 2 / -1;\n",
       "}\n",
       "\n",
       ".xr-section-details {\n",
       "  display: none;\n",
       "  grid-column: 1 / -1;\n",
       "  margin-bottom: 5px;\n",
       "}\n",
       "\n",
       ".xr-section-summary-in:checked ~ .xr-section-details {\n",
       "  display: contents;\n",
       "}\n",
       "\n",
       ".xr-array-wrap {\n",
       "  grid-column: 1 / -1;\n",
       "  display: grid;\n",
       "  grid-template-columns: 20px auto;\n",
       "}\n",
       "\n",
       ".xr-array-wrap > label {\n",
       "  grid-column: 1;\n",
       "  vertical-align: top;\n",
       "}\n",
       "\n",
       ".xr-preview {\n",
       "  color: var(--xr-font-color3);\n",
       "}\n",
       "\n",
       ".xr-array-preview,\n",
       ".xr-array-data {\n",
       "  padding: 0 5px !important;\n",
       "  grid-column: 2;\n",
       "}\n",
       "\n",
       ".xr-array-data,\n",
       ".xr-array-in:checked ~ .xr-array-preview {\n",
       "  display: none;\n",
       "}\n",
       "\n",
       ".xr-array-in:checked ~ .xr-array-data,\n",
       ".xr-array-preview {\n",
       "  display: inline-block;\n",
       "}\n",
       "\n",
       ".xr-dim-list {\n",
       "  display: inline-block !important;\n",
       "  list-style: none;\n",
       "  padding: 0 !important;\n",
       "  margin: 0;\n",
       "}\n",
       "\n",
       ".xr-dim-list li {\n",
       "  display: inline-block;\n",
       "  padding: 0;\n",
       "  margin: 0;\n",
       "}\n",
       "\n",
       ".xr-dim-list:before {\n",
       "  content: '(';\n",
       "}\n",
       "\n",
       ".xr-dim-list:after {\n",
       "  content: ')';\n",
       "}\n",
       "\n",
       ".xr-dim-list li:not(:last-child):after {\n",
       "  content: ',';\n",
       "  padding-right: 5px;\n",
       "}\n",
       "\n",
       ".xr-has-index {\n",
       "  font-weight: bold;\n",
       "}\n",
       "\n",
       ".xr-var-list,\n",
       ".xr-var-item {\n",
       "  display: contents;\n",
       "}\n",
       "\n",
       ".xr-var-item > div,\n",
       ".xr-var-item label,\n",
       ".xr-var-item > .xr-var-name span {\n",
       "  background-color: var(--xr-background-color-row-even);\n",
       "  margin-bottom: 0;\n",
       "}\n",
       "\n",
       ".xr-var-item > .xr-var-name:hover span {\n",
       "  padding-right: 5px;\n",
       "}\n",
       "\n",
       ".xr-var-list > li:nth-child(odd) > div,\n",
       ".xr-var-list > li:nth-child(odd) > label,\n",
       ".xr-var-list > li:nth-child(odd) > .xr-var-name span {\n",
       "  background-color: var(--xr-background-color-row-odd);\n",
       "}\n",
       "\n",
       ".xr-var-name {\n",
       "  grid-column: 1;\n",
       "}\n",
       "\n",
       ".xr-var-dims {\n",
       "  grid-column: 2;\n",
       "}\n",
       "\n",
       ".xr-var-dtype {\n",
       "  grid-column: 3;\n",
       "  text-align: right;\n",
       "  color: var(--xr-font-color2);\n",
       "}\n",
       "\n",
       ".xr-var-preview {\n",
       "  grid-column: 4;\n",
       "}\n",
       "\n",
       ".xr-var-name,\n",
       ".xr-var-dims,\n",
       ".xr-var-dtype,\n",
       ".xr-preview,\n",
       ".xr-attrs dt {\n",
       "  white-space: nowrap;\n",
       "  overflow: hidden;\n",
       "  text-overflow: ellipsis;\n",
       "  padding-right: 10px;\n",
       "}\n",
       "\n",
       ".xr-var-name:hover,\n",
       ".xr-var-dims:hover,\n",
       ".xr-var-dtype:hover,\n",
       ".xr-attrs dt:hover {\n",
       "  overflow: visible;\n",
       "  width: auto;\n",
       "  z-index: 1;\n",
       "}\n",
       "\n",
       ".xr-var-attrs,\n",
       ".xr-var-data {\n",
       "  display: none;\n",
       "  background-color: var(--xr-background-color) !important;\n",
       "  padding-bottom: 5px !important;\n",
       "}\n",
       "\n",
       ".xr-var-attrs-in:checked ~ .xr-var-attrs,\n",
       ".xr-var-data-in:checked ~ .xr-var-data {\n",
       "  display: block;\n",
       "}\n",
       "\n",
       ".xr-var-data > table {\n",
       "  float: right;\n",
       "}\n",
       "\n",
       ".xr-var-name span,\n",
       ".xr-var-data,\n",
       ".xr-attrs {\n",
       "  padding-left: 25px !important;\n",
       "}\n",
       "\n",
       ".xr-attrs,\n",
       ".xr-var-attrs,\n",
       ".xr-var-data {\n",
       "  grid-column: 1 / -1;\n",
       "}\n",
       "\n",
       "dl.xr-attrs {\n",
       "  padding: 0;\n",
       "  margin: 0;\n",
       "  display: grid;\n",
       "  grid-template-columns: 125px auto;\n",
       "}\n",
       "\n",
       ".xr-attrs dt,\n",
       ".xr-attrs dd {\n",
       "  padding: 0;\n",
       "  margin: 0;\n",
       "  float: left;\n",
       "  padding-right: 10px;\n",
       "  width: auto;\n",
       "}\n",
       "\n",
       ".xr-attrs dt {\n",
       "  font-weight: normal;\n",
       "  grid-column: 1;\n",
       "}\n",
       "\n",
       ".xr-attrs dt:hover span {\n",
       "  display: inline-block;\n",
       "  background: var(--xr-background-color);\n",
       "  padding-right: 10px;\n",
       "}\n",
       "\n",
       ".xr-attrs dd {\n",
       "  grid-column: 2;\n",
       "  white-space: pre-wrap;\n",
       "  word-break: break-all;\n",
       "}\n",
       "\n",
       ".xr-icon-database,\n",
       ".xr-icon-file-text2 {\n",
       "  display: inline-block;\n",
       "  vertical-align: middle;\n",
       "  width: 1em;\n",
       "  height: 1.5em !important;\n",
       "  stroke-width: 0;\n",
       "  stroke: currentColor;\n",
       "  fill: currentColor;\n",
       "}\n",
       "</style><pre class='xr-text-repr-fallback'>&lt;xarray.DataArray (chid: 4, row: 600, col: 400)&gt;\n",
       "array([[[-5.78000e+02, -5.97000e+02, -2.84000e+02, ..., -7.70000e+01,\n",
       "          1.06000e+02, -3.80000e+01],\n",
       "        [-1.83000e+02,  3.40000e+01,  8.00000e+00, ...,  5.80000e+01,\n",
       "          1.01000e+02,  3.05000e+02],\n",
       "        [-5.60000e+01,  8.60000e+01,  2.27000e+02, ...,  8.70000e+01,\n",
       "          1.72000e+02,  4.50000e+01],\n",
       "        ...,\n",
       "        [-2.40000e+01,  1.84000e+02,  1.19000e+02, ...,  2.42000e+02,\n",
       "         -1.60000e+01,  9.60000e+01],\n",
       "        [ 3.09000e+02,  8.40000e+01,  1.52000e+02, ...,  8.80000e+01,\n",
       "          1.50000e+01,  1.69000e+02],\n",
       "        [ 5.60000e+01,  1.12000e+02,  2.01000e+02, ...,  8.90000e+01,\n",
       "          2.63000e+02,  7.40000e+01]],\n",
       "\n",
       "       [[-4.88000e+02, -5.97000e+02, -1.41200e+03, ..., -5.00000e+01,\n",
       "         -1.10000e+01, -1.08000e+02],\n",
       "        [-2.36000e+02, -7.60000e+01,  4.30000e+01, ...,  1.08000e+02,\n",
       "          6.60000e+01,  1.60000e+02],\n",
       "        [-4.00000e+00,  1.57000e+02,  1.60000e+02, ...,  2.10000e+01,\n",
       "          1.78000e+02,  5.00000e+01],\n",
       "...\n",
       "        [ 8.98080e+04,  6.05850e+04,  5.10350e+04, ...,  4.95660e+04,\n",
       "          5.04990e+04,  5.39700e+04],\n",
       "        [ 2.14690e+04,  7.69140e+04,  4.56050e+04, ...,  5.51880e+04,\n",
       "          5.30740e+04,  4.73010e+04],\n",
       "        [ 1.30343e+05,  5.24980e+04,  5.16470e+04, ...,  5.55830e+04,\n",
       "          5.68560e+04,  5.59660e+04]],\n",
       "\n",
       "       [[-1.60000e+01, -2.05000e+02, -4.03000e+02, ..., -1.20000e+02,\n",
       "          2.60000e+01,  3.60000e+01],\n",
       "        [-5.80000e+01, -6.50000e+01,  2.80000e+01, ...,  5.79760e+04,\n",
       "          6.47890e+04,  6.18530e+04],\n",
       "        [ 1.35041e+05,  9.13260e+04,  6.25630e+04, ...,  6.67270e+04,\n",
       "          7.13440e+04,  6.93930e+04],\n",
       "        ...,\n",
       "        [ 1.07573e+05,  7.69290e+04,  6.61360e+04, ...,  6.50880e+04,\n",
       "          6.86840e+04,  6.98890e+04],\n",
       "        [ 3.19640e+04,  9.47020e+04,  6.25010e+04, ...,  6.86380e+04,\n",
       "          7.11590e+04,  6.43180e+04],\n",
       "        [ 1.52848e+05,  6.87910e+04,  6.57590e+04, ...,  7.23200e+04,\n",
       "          7.42020e+04,  7.37240e+04]]])\n",
       "Coordinates:\n",
       "  * chid     (chid) object &#x27;12&#x27; &#x27;13&#x27; &#x27;14&#x27; &#x27;15&#x27;\n",
       "  * row      (row) int64 0 1 2 3 4 5 6 7 8 ... 592 593 594 595 596 597 598 599\n",
       "  * col      (col) int64 0 1 2 3 4 5 6 7 8 ... 392 393 394 395 396 397 398 399\n",
       "Attributes:\n",
       "    SIMPLE:                     (True, &#x27;file does conform to FITS standard&#x27;)\n",
       "    BITPIX:                     (32, &#x27;number of bits per data pixel&#x27;)\n",
       "    NAXIS:                      (2, &#x27;number of data axes&#x27;)\n",
       "    NAXIS1:                     (400, &#x27;length of data axis 1&#x27;)\n",
       "    NAXIS2:                     (600, &#x27;length of data axis 2&#x27;)\n",
       "    PCOUNT:                     (0, &#x27;size of special data area&#x27;)\n",
       "    GCOUNT:                     (1, &#x27;one data group (required keyword)&#x27;)\n",
       "    XTENSION:                   (&#x27;BINTABLE&#x27;, &#x27;binary table extension&#x27;)\n",
       "    COMMENT:                    (  FITS (Flexible Image Transport System) for...\n",
       "    CCDNCOL:                    (&#x27;512&#x27;, &#x27;Smart sequencer variable&#x27;)\n",
       "    CCDNPRES:                   (&#x27;7&#x27;, &#x27;Smart sequencer variable&#x27;)\n",
       "    CCDNROW:                    (&#x27;1024&#x27;, &#x27;Smart sequencer variable&#x27;)\n",
       "    EXPOSURE:                   (&#x27;0&#x27;, &#x27;Smart sequencer variable&#x27;)\n",
       "    NBINCOL:                    (&#x27;1&#x27;, &#x27;Smart sequencer variable&#x27;)\n",
       "    NBINROW:                    (&#x27;1&#x27;, &#x27;Smart sequencer variable&#x27;)\n",
       "    NCOL:                       (&#x27;400&#x27;, &#x27;Smart sequencer variable&#x27;)\n",
       "    NROW:                       (&#x27;600&#x27;, &#x27;Smart sequencer variable&#x27;)\n",
       "    NSAMP:                      (&#x27;1&#x27;, &#x27;Smart sequencer variable&#x27;)\n",
       "    SKIPCOL:                    (&#x27;0&#x27;, &#x27;Smart sequencer variable&#x27;)\n",
       "    SKIPROW:                    (&#x27;0&#x27;, &#x27;Smart sequencer variable&#x27;)\n",
       "    TOG_VDD:                    (&#x27;1&#x27;, &#x27;Smart sequencer variable&#x27;)\n",
       "    TOG_VR:                     (&#x27;0&#x27;, &#x27;Smart sequencer variable&#x27;)\n",
       "    DELAY_H_AFTER:              (&#x27;2&#x27;, &#x27;Smart sequencer variable&#x27;)\n",
       "    DELAY_H_OVERLAP:            (&#x27;150&#x27;, &#x27;Smart sequencer variable&#x27;)\n",
       "    DELAY_INTEG_PED:            (&#x27;340&#x27;, &#x27;Smart sequencer variable&#x27;)\n",
       "    DELAY_INTEG_SIG:            (&#x27;235&#x27;, &#x27;Smart sequencer variable&#x27;)\n",
       "    DELAY_RG_WIDTH:             (&#x27;15&#x27;, &#x27;Smart sequencer variable&#x27;)\n",
       "    DELAY_RG_AFTER:             (&#x27;5&#x27;, &#x27;Smart sequencer variable&#x27;)\n",
       "    DELAY_SW_AFTER:             (&#x27;5&#x27;, &#x27;Smart sequencer variable&#x27;)\n",
       "    DELAY_SWHIGH:               (&#x27;8&#x27;, &#x27;Smart sequencer variable&#x27;)\n",
       "    DELAY_V_OVERLAP:            (&#x27;300&#x27;, &#x27;Smart sequencer variable&#x27;)\n",
       "    DELAY_EXPOSE:               (&#x27;15000000&#x27;, &#x27;Smart sequencer variable&#x27;)\n",
       "    DELAY_INTEG_AFTER_SW_HIGH:  (&#x27;4&#x27;, &#x27;Smart sequencer variable&#x27;)\n",
       "    DELAY_OG_LOW:               (&#x27;15&#x27;, &#x27;Smart sequencer variable&#x27;)\n",
       "    V1AH:                       (&#x27;-0.500&#x27;, &#x27;Internal variable&#x27;)\n",
       "    V1AL:                       (&#x27;-2.500&#x27;, &#x27;Internal variable&#x27;)\n",
       "    V1BH:                       (&#x27;-0.500&#x27;, &#x27;Internal variable&#x27;)\n",
       "    V1BL:                       (&#x27;-2.500&#x27;, &#x27;Internal variable&#x27;)\n",
       "    V2CH:                       (&#x27;-0.500&#x27;, &#x27;Internal variable&#x27;)\n",
       "    V2CL:                       (&#x27;-2.500&#x27;, &#x27;Internal variable&#x27;)\n",
       "    V3AH:                       (&#x27;-0.500&#x27;, &#x27;Internal variable&#x27;)\n",
       "    V3AL:                       (&#x27;-2.500&#x27;, &#x27;Internal variable&#x27;)\n",
       "    V3BH:                       (&#x27;-0.500&#x27;, &#x27;Internal variable&#x27;)\n",
       "    V3BL:                       (&#x27;-2.500&#x27;, &#x27;Internal variable&#x27;)\n",
       "    H1AH:                       (&#x27;-2.000&#x27;, &#x27;Internal variable&#x27;)\n",
       "    H1AL:                       (&#x27;-4.500&#x27;, &#x27;Internal variable&#x27;)\n",
       "    H1BH:                       (&#x27;-2.000&#x27;, &#x27;Internal variable&#x27;)\n",
       "    H1BL:                       (&#x27;-4.500&#x27;, &#x27;Internal variable&#x27;)\n",
       "    H2CH:                       (&#x27;-2.000&#x27;, &#x27;Internal variable&#x27;)\n",
       "    H2CL:                       (&#x27;-4.500&#x27;, &#x27;Internal variable&#x27;)\n",
       "    H3AH:                       (&#x27;-2.000&#x27;, &#x27;Internal variable&#x27;)\n",
       "    H3AL:                       (&#x27;-4.500&#x27;, &#x27;Internal variable&#x27;)\n",
       "    H3BH:                       (&#x27;-2.000&#x27;, &#x27;Internal variable&#x27;)\n",
       "    H3BL:                       (&#x27;-4.500&#x27;, &#x27;Internal variable&#x27;)\n",
       "    SWAH:                       (&#x27;-3.000&#x27;, &#x27;Internal variable&#x27;)\n",
       "    SWAL:                       (&#x27;-10.000&#x27;, &#x27;Internal variable&#x27;)\n",
       "    SWBH:                       (&#x27;-3.000&#x27;, &#x27;Internal variable&#x27;)\n",
       "    SWBL:                       (&#x27;-10.000&#x27;, &#x27;Internal variable&#x27;)\n",
       "    RGAH:                       (&#x27;7.000&#x27;, &#x27;Internal variable&#x27;)\n",
       "    RGAL:                       (&#x27;-4.000&#x27;, &#x27;Internal variable&#x27;)\n",
       "    RGBH:                       (&#x27;7.000&#x27;, &#x27;Internal variable&#x27;)\n",
       "    RGBL:                       (&#x27;-4.000&#x27;, &#x27;Internal variable&#x27;)\n",
       "    OGAH:                       (&#x27;-4.000&#x27;, &#x27;Internal variable&#x27;)\n",
       "    OGAL:                       (&#x27;-8.000&#x27;, &#x27;Internal variable&#x27;)\n",
       "    OGBH:                       (&#x27;-4.000&#x27;, &#x27;Internal variable&#x27;)\n",
       "    OGBL:                       (&#x27;-8.000&#x27;, &#x27;Internal variable&#x27;)\n",
       "    DGAH:                       (&#x27;-1.000&#x27;, &#x27;Internal variable&#x27;)\n",
       "    DGAL:                       (&#x27;-10.000&#x27;, &#x27;Internal variable&#x27;)\n",
       "    DGBH:                       (&#x27;-1.000&#x27;, &#x27;Internal variable&#x27;)\n",
       "    DGBL:                       (&#x27;-10.000&#x27;, &#x27;Internal variable&#x27;)\n",
       "    TGAH:                       (&#x27;-1.000&#x27;, &#x27;Internal variable&#x27;)\n",
       "    TGAL:                       (&#x27;-3.500&#x27;, &#x27;Internal variable&#x27;)\n",
       "    TGBH:                       (&#x27;-1.000&#x27;, &#x27;Internal variable&#x27;)\n",
       "    TGBL:                       (&#x27;-3.500&#x27;, &#x27;Internal variable&#x27;)\n",
       "    LDAC_N:                     (&#x27;0&#x27;, &#x27;Internal variable&#x27;)\n",
       "    CLR_N:                      (&#x27;1&#x27;, &#x27;Internal variable&#x27;)\n",
       "    RESET_N:                    (&#x27;1&#x27;, &#x27;Internal variable&#x27;)\n",
       "    SW_EN:                      (&#x27;0&#x27;, &#x27;Internal variable&#x27;)\n",
       "    VDRAIN:                     (&#x27;-24.000&#x27;, &#x27;Internal variable&#x27;)\n",
       "    VDD:                        (&#x27;-21.000&#x27;, &#x27;Internal variable&#x27;)\n",
       "    VR:                         (&#x27;-7.000&#x27;, &#x27;Internal variable&#x27;)\n",
       "    VSUB:                       (&#x27;70.000&#x27;, &#x27;Internal variable&#x27;)\n",
       "    VDD_SW:                     (&#x27;1&#x27;, &#x27;Internal variable&#x27;)\n",
       "    VDRAIN_SW:                  (&#x27;1&#x27;, &#x27;Internal variable&#x27;)\n",
       "    VSUB_SW:                    (&#x27;1&#x27;, &#x27;Internal variable&#x27;)\n",
       "    VSUB_LOAD_SW:               (&#x27;0&#x27;, &#x27;Internal variable&#x27;)\n",
       "    VSUB_RDIV_SW:               (&#x27;0&#x27;, &#x27;Internal variable&#x27;)\n",
       "    VR_SW:                      (&#x27;1&#x27;, &#x27;Internal variable&#x27;)\n",
       "    P15V_SW:                    (&#x27;1&#x27;, &#x27;Internal variable&#x27;)\n",
       "    M15V_SW:                    (&#x27;1&#x27;, &#x27;Internal variable&#x27;)\n",
       "    PACKSOURCE:                 (&#x27;9&#x27;, &#x27;Internal variable&#x27;)\n",
       "    PACKSTART:                  (&#x27;1&#x27;, &#x27;Internal variable&#x27;)\n",
       "    ENA:                        (&#x27;1&#x27;, &#x27;Internal variable&#x27;)\n",
       "    TESTPTRNA:                  (&#x27;0&#x27;, &#x27;Internal variable&#x27;)\n",
       "    BITSLIPA:                   (&#x27;0&#x27;, &#x27;Internal variable&#x27;)\n",
       "    PDA:                        (&#x27;1&#x27;, &#x27;Internal variable&#x27;)\n",
       "    ENB:                        (&#x27;1&#x27;, &#x27;Internal variable&#x27;)\n",
       "    TESTPTRNB:                  (&#x27;0&#x27;, &#x27;Internal variable&#x27;)\n",
       "    BITSLIPB:                   (&#x27;0&#x27;, &#x27;Internal variable&#x27;)\n",
       "    PDB:                        (&#x27;1&#x27;, &#x27;Internal variable&#x27;)\n",
       "    ENC:                        (&#x27;1&#x27;, &#x27;Internal variable&#x27;)\n",
       "    TESTPTRNC:                  (&#x27;0&#x27;, &#x27;Internal variable&#x27;)\n",
       "    BITSLIPC:                   (&#x27;0&#x27;, &#x27;Internal variable&#x27;)\n",
       "    PDC:                        (&#x27;1&#x27;, &#x27;Internal variable&#x27;)\n",
       "    END_:                       (&#x27;1&#x27;, &#x27;Internal variable&#x27;)\n",
       "    TESTPTRND:                  (&#x27;0&#x27;, &#x27;Internal variable&#x27;)\n",
       "    BITSLIPD:                   (&#x27;0&#x27;, &#x27;Internal variable&#x27;)\n",
       "    PDD:                        (&#x27;1&#x27;, &#x27;Internal variable&#x27;)\n",
       "    PINIT:                      (&#x27;0&#x27;, &#x27;Internal variable&#x27;)\n",
       "    SINIT:                      (&#x27;30&#x27;, &#x27;Internal variable&#x27;)\n",
       "    PSAMP:                      (&#x27;200&#x27;, &#x27;Internal variable&#x27;)\n",
       "    SSAMP:                      (&#x27;200&#x27;, &#x27;Internal variable&#x27;)\n",
       "    CDSOUT:                     (&#x27;2&#x27;, &#x27;Internal variable&#x27;)\n",
       "    ECHO:                       (&#x27;0.000&#x27;, &#x27;Internal variable&#x27;)\n",
       "    OUTETH:                     (&#x27;1.000&#x27;, &#x27;Internal variable&#x27;)\n",
       "    LED0:                       (&#x27;1&#x27;, &#x27;Internal variable&#x27;)\n",
       "    LED1:                       (&#x27;1&#x27;, &#x27;Internal variable&#x27;)\n",
       "    LED2:                       (&#x27;0&#x27;, &#x27;Internal variable&#x27;)\n",
       "    LED3:                       (&#x27;0&#x27;, &#x27;Internal variable&#x27;)\n",
       "    LED4:                       (&#x27;0&#x27;, &#x27;Internal variable&#x27;)\n",
       "    LED5:                       (&#x27;0&#x27;, &#x27;Internal variable&#x27;)\n",
       "    BUFSEL:                     (&#x27;0&#x27;, &#x27;Internal variable&#x27;)\n",
       "    BUFSTART:                   (&#x27;0&#x27;, &#x27;Internal variable&#x27;)\n",
       "    IPADDR:                     (&#x27;192.168.133.9&#x27;, &#x27;Internal variable&#x27;)\n",
       "    ISSLAVE:                    (&#x27;0&#x27;, &#x27;Internal variable&#x27;)\n",
       "    SYNCSTOP:                   (&#x27;0&#x27;, &#x27;Internal variable&#x27;)\n",
       "    SYNCDELAY:                  (&#x27;0&#x27;, &#x27;Internal variable&#x27;)\n",
       "    FRFCLK:                     (&#x27;75000&#x27;, &#x27;Internal variable&#x27;)\n",
       "    FRFMEAS:                    (&#x27;1&#x27;, &#x27;Internal variable&#x27;)\n",
       "    SWA:                        (&#x27;-10.000&#x27;, &#x27;Internal variable&#x27;)\n",
       "    SWB:                        (&#x27;-10.000&#x27;, &#x27;Internal variable&#x27;)\n",
       "    OGA:                        (&#x27;-4.045&#x27;, &#x27;Internal variable&#x27;)\n",
       "    OGB:                        (&#x27;-4.047&#x27;, &#x27;Internal variable&#x27;)\n",
       "    RGA:                        (&#x27;-4.060&#x27;, &#x27;Internal variable&#x27;)\n",
       "    RGB:                        (&#x27;-4.050&#x27;, &#x27;Internal variable&#x27;)\n",
       "    DGA:                        (&#x27;-1.047&#x27;, &#x27;Internal variable&#x27;)\n",
       "    DGB:                        (&#x27;-1.044&#x27;, &#x27;Internal variable&#x27;)\n",
       "    H1A:                        (&#x27;-2.050&#x27;, &#x27;Internal variable&#x27;)\n",
       "    H1B:                        (&#x27;-2.060&#x27;, &#x27;Internal variable&#x27;)\n",
       "    H2C:                        (&#x27;-4.548&#x27;, &#x27;Internal variable&#x27;)\n",
       "    V2C:                        (&#x27;-2.597&#x27;, &#x27;Internal variable&#x27;)\n",
       "    H3A:                        (&#x27;-2.048&#x27;, &#x27;Internal variable&#x27;)\n",
       "    H3B:                        (&#x27;-2.065&#x27;, &#x27;Internal variable&#x27;)\n",
       "    V1A:                        (&#x27;-0.595&#x27;, &#x27;Internal variable&#x27;)\n",
       "    V1B:                        (&#x27;-0.581&#x27;, &#x27;Internal variable&#x27;)\n",
       "    V3A:                        (&#x27;-0.605&#x27;, &#x27;Internal variable&#x27;)\n",
       "    V3B:                        (&#x27;-0.581&#x27;, &#x27;Internal variable&#x27;)\n",
       "    TGA:                        (&#x27;-1.052&#x27;, &#x27;Internal variable&#x27;)\n",
       "    TGB:                        (&#x27;-1.042&#x27;, &#x27;Internal variable&#x27;)\n",
       "    V_P2V5:                     (&#x27;2.495&#x27;, &#x27;Internal variable&#x27;)\n",
       "    V_P1V0:                     (&#x27;0.996&#x27;, &#x27;Internal variable&#x27;)\n",
       "    V_P4V2:                     (&#x27;4.213&#x27;, &#x27;Internal variable&#x27;)\n",
       "    V_P1V8:                     (&#x27;1.794&#x27;, &#x27;Internal variable&#x27;)\n",
       "    V_P5V0:                     (&#x27;4.982&#x27;, &#x27;Internal variable&#x27;)\n",
       "    V_P2V5A:                    (&#x27;2.497&#x27;, &#x27;Internal variable&#x27;)\n",
       "    V_P3V3:                     (&#x27;3.310&#x27;, &#x27;Internal variable&#x27;)\n",
       "    V_M15V0:                    (&#x27;-15.028&#x27;, &#x27;Internal variable&#x27;)\n",
       "    V_P12V0:                    (&#x27;11.533&#x27;, &#x27;Internal variable&#x27;)\n",
       "    V_P15V0:                    (&#x27;14.710&#x27;, &#x27;Internal variable&#x27;)\n",
       "    CCD_VDD:                    (&#x27;-20.917&#x27;, &#x27;Internal variable&#x27;)\n",
       "    CCD_VR:                     (&#x27;-7.086&#x27;, &#x27;Internal variable&#x27;)\n",
       "    CCD_VSUB:                   (&#x27;68.860&#x27;, &#x27;Internal variable&#x27;)\n",
       "    CCD_VDRAIN:                 (&#x27;-24.289&#x27;, &#x27;Internal variable&#x27;)\n",
       "    ISMULTI:                    (&#x27;0&#x27;, &#x27;Multi-LTA mode&#x27;)\n",
       "    DATESTART:                  (&#x27;2021-07-07T00:59:15&#x27;, &#x27;Timestamp at start o...\n",
       "    DATEEND:                    (&#x27;2021-07-07T00:59:41&#x27;, &#x27;Timestamp at end of ...\n",
       "    CHID:                       (&#x27;12&#x27;, &#x27;amplifier ID for this HDU&#x27;)\n",
       "    RUNID:                      (&#x27;20&#x27;, &#x27;run index&#x27;)\n",
       "    NPIX:                       (&#x27;240000&#x27;, &#x27;number of pixels read from LTA&#x27;)\n",
       "    DATE:                       (&#x27;2021-07-07T00:59:46&#x27;, &#x27;file creation date (...\n",
       "    EXTEND:                     (True, &#x27;FITS dataset may contain extensions&#x27;)</pre><div class='xr-wrap' hidden><div class='xr-header'><div class='xr-obj-type'>xarray.DataArray</div><div class='xr-array-name'></div><ul class='xr-dim-list'><li><span class='xr-has-index'>chid</span>: 4</li><li><span class='xr-has-index'>row</span>: 600</li><li><span class='xr-has-index'>col</span>: 400</li></ul></div><ul class='xr-sections'><li class='xr-section-item'><div class='xr-array-wrap'><input id='section-180da25b-1e5a-453a-bcd0-2b2da4cde442' class='xr-array-in' type='checkbox' checked><label for='section-180da25b-1e5a-453a-bcd0-2b2da4cde442' title='Show/hide data repr'><svg class='icon xr-icon-database'><use xlink:href='#icon-database'></use></svg></label><div class='xr-array-preview xr-preview'><span>-578.0 -597.0 -284.0 -673.0 ... 7.008e+04 7.232e+04 7.42e+04 7.372e+04</span></div><div class='xr-array-data'><pre>array([[[-5.78000e+02, -5.97000e+02, -2.84000e+02, ..., -7.70000e+01,\n",
       "          1.06000e+02, -3.80000e+01],\n",
       "        [-1.83000e+02,  3.40000e+01,  8.00000e+00, ...,  5.80000e+01,\n",
       "          1.01000e+02,  3.05000e+02],\n",
       "        [-5.60000e+01,  8.60000e+01,  2.27000e+02, ...,  8.70000e+01,\n",
       "          1.72000e+02,  4.50000e+01],\n",
       "        ...,\n",
       "        [-2.40000e+01,  1.84000e+02,  1.19000e+02, ...,  2.42000e+02,\n",
       "         -1.60000e+01,  9.60000e+01],\n",
       "        [ 3.09000e+02,  8.40000e+01,  1.52000e+02, ...,  8.80000e+01,\n",
       "          1.50000e+01,  1.69000e+02],\n",
       "        [ 5.60000e+01,  1.12000e+02,  2.01000e+02, ...,  8.90000e+01,\n",
       "          2.63000e+02,  7.40000e+01]],\n",
       "\n",
       "       [[-4.88000e+02, -5.97000e+02, -1.41200e+03, ..., -5.00000e+01,\n",
       "         -1.10000e+01, -1.08000e+02],\n",
       "        [-2.36000e+02, -7.60000e+01,  4.30000e+01, ...,  1.08000e+02,\n",
       "          6.60000e+01,  1.60000e+02],\n",
       "        [-4.00000e+00,  1.57000e+02,  1.60000e+02, ...,  2.10000e+01,\n",
       "          1.78000e+02,  5.00000e+01],\n",
       "...\n",
       "        [ 8.98080e+04,  6.05850e+04,  5.10350e+04, ...,  4.95660e+04,\n",
       "          5.04990e+04,  5.39700e+04],\n",
       "        [ 2.14690e+04,  7.69140e+04,  4.56050e+04, ...,  5.51880e+04,\n",
       "          5.30740e+04,  4.73010e+04],\n",
       "        [ 1.30343e+05,  5.24980e+04,  5.16470e+04, ...,  5.55830e+04,\n",
       "          5.68560e+04,  5.59660e+04]],\n",
       "\n",
       "       [[-1.60000e+01, -2.05000e+02, -4.03000e+02, ..., -1.20000e+02,\n",
       "          2.60000e+01,  3.60000e+01],\n",
       "        [-5.80000e+01, -6.50000e+01,  2.80000e+01, ...,  5.79760e+04,\n",
       "          6.47890e+04,  6.18530e+04],\n",
       "        [ 1.35041e+05,  9.13260e+04,  6.25630e+04, ...,  6.67270e+04,\n",
       "          7.13440e+04,  6.93930e+04],\n",
       "        ...,\n",
       "        [ 1.07573e+05,  7.69290e+04,  6.61360e+04, ...,  6.50880e+04,\n",
       "          6.86840e+04,  6.98890e+04],\n",
       "        [ 3.19640e+04,  9.47020e+04,  6.25010e+04, ...,  6.86380e+04,\n",
       "          7.11590e+04,  6.43180e+04],\n",
       "        [ 1.52848e+05,  6.87910e+04,  6.57590e+04, ...,  7.23200e+04,\n",
       "          7.42020e+04,  7.37240e+04]]])</pre></div></div></li><li class='xr-section-item'><input id='section-f2b3fd7e-f27c-48c6-9630-65a2342eb889' class='xr-section-summary-in' type='checkbox'  checked><label for='section-f2b3fd7e-f27c-48c6-9630-65a2342eb889' class='xr-section-summary' >Coordinates: <span>(3)</span></label><div class='xr-section-inline-details'></div><div class='xr-section-details'><ul class='xr-var-list'><li class='xr-var-item'><div class='xr-var-name'><span class='xr-has-index'>chid</span></div><div class='xr-var-dims'>(chid)</div><div class='xr-var-dtype'>object</div><div class='xr-var-preview xr-preview'>&#x27;12&#x27; &#x27;13&#x27; &#x27;14&#x27; &#x27;15&#x27;</div><input id='attrs-41125552-2fad-4f42-a4d5-52d101308843' class='xr-var-attrs-in' type='checkbox' disabled><label for='attrs-41125552-2fad-4f42-a4d5-52d101308843' title='Show/Hide attributes'><svg class='icon xr-icon-file-text2'><use xlink:href='#icon-file-text2'></use></svg></label><input id='data-4aab0475-2550-4555-aada-8b6668eea00c' class='xr-var-data-in' type='checkbox'><label for='data-4aab0475-2550-4555-aada-8b6668eea00c' title='Show/Hide data repr'><svg class='icon xr-icon-database'><use xlink:href='#icon-database'></use></svg></label><div class='xr-var-attrs'><dl class='xr-attrs'></dl></div><div class='xr-var-data'><pre>array([&#x27;12&#x27;, &#x27;13&#x27;, &#x27;14&#x27;, &#x27;15&#x27;], dtype=object)</pre></div></li><li class='xr-var-item'><div class='xr-var-name'><span class='xr-has-index'>row</span></div><div class='xr-var-dims'>(row)</div><div class='xr-var-dtype'>int64</div><div class='xr-var-preview xr-preview'>0 1 2 3 4 5 ... 595 596 597 598 599</div><input id='attrs-730afbf5-5ada-4182-9389-1820b0181dad' class='xr-var-attrs-in' type='checkbox' disabled><label for='attrs-730afbf5-5ada-4182-9389-1820b0181dad' title='Show/Hide attributes'><svg class='icon xr-icon-file-text2'><use xlink:href='#icon-file-text2'></use></svg></label><input id='data-3d62a458-05c1-4ffc-bd80-2bfa57f01ee1' class='xr-var-data-in' type='checkbox'><label for='data-3d62a458-05c1-4ffc-bd80-2bfa57f01ee1' title='Show/Hide data repr'><svg class='icon xr-icon-database'><use xlink:href='#icon-database'></use></svg></label><div class='xr-var-attrs'><dl class='xr-attrs'></dl></div><div class='xr-var-data'><pre>array([  0,   1,   2, ..., 597, 598, 599])</pre></div></li><li class='xr-var-item'><div class='xr-var-name'><span class='xr-has-index'>col</span></div><div class='xr-var-dims'>(col)</div><div class='xr-var-dtype'>int64</div><div class='xr-var-preview xr-preview'>0 1 2 3 4 5 ... 395 396 397 398 399</div><input id='attrs-b69ae6f2-f89b-4dbb-9b92-9d9e4697fe5a' class='xr-var-attrs-in' type='checkbox' disabled><label for='attrs-b69ae6f2-f89b-4dbb-9b92-9d9e4697fe5a' title='Show/Hide attributes'><svg class='icon xr-icon-file-text2'><use xlink:href='#icon-file-text2'></use></svg></label><input id='data-f0a96f81-2f32-4fa6-85fc-103b8f608449' class='xr-var-data-in' type='checkbox'><label for='data-f0a96f81-2f32-4fa6-85fc-103b8f608449' title='Show/Hide data repr'><svg class='icon xr-icon-database'><use xlink:href='#icon-database'></use></svg></label><div class='xr-var-attrs'><dl class='xr-attrs'></dl></div><div class='xr-var-data'><pre>array([  0,   1,   2, ..., 397, 398, 399])</pre></div></li></ul></div></li><li class='xr-section-item'><input id='section-f15487ed-02d0-4e2f-ab6f-36dbf96c7f87' class='xr-section-summary-in' type='checkbox'  ><label for='section-f15487ed-02d0-4e2f-ab6f-36dbf96c7f87' class='xr-section-summary' >Attributes: <span>(171)</span></label><div class='xr-section-inline-details'></div><div class='xr-section-details'><dl class='xr-attrs'><dt><span>SIMPLE :</span></dt><dd>(True, &#x27;file does conform to FITS standard&#x27;)</dd><dt><span>BITPIX :</span></dt><dd>(32, &#x27;number of bits per data pixel&#x27;)</dd><dt><span>NAXIS :</span></dt><dd>(2, &#x27;number of data axes&#x27;)</dd><dt><span>NAXIS1 :</span></dt><dd>(400, &#x27;length of data axis 1&#x27;)</dd><dt><span>NAXIS2 :</span></dt><dd>(600, &#x27;length of data axis 2&#x27;)</dd><dt><span>PCOUNT :</span></dt><dd>(0, &#x27;size of special data area&#x27;)</dd><dt><span>GCOUNT :</span></dt><dd>(1, &#x27;one data group (required keyword)&#x27;)</dd><dt><span>XTENSION :</span></dt><dd>(&#x27;BINTABLE&#x27;, &#x27;binary table extension&#x27;)</dd><dt><span>COMMENT :</span></dt><dd>(  FITS (Flexible Image Transport System) format is defined in &#x27;Astronomy\n",
       "  and Astrophysics&#x27;, volume 376, page 359; bibcode: 2001A&amp;A...376..359H, &#x27;&#x27;)</dd><dt><span>CCDNCOL :</span></dt><dd>(&#x27;512&#x27;, &#x27;Smart sequencer variable&#x27;)</dd><dt><span>CCDNPRES :</span></dt><dd>(&#x27;7&#x27;, &#x27;Smart sequencer variable&#x27;)</dd><dt><span>CCDNROW :</span></dt><dd>(&#x27;1024&#x27;, &#x27;Smart sequencer variable&#x27;)</dd><dt><span>EXPOSURE :</span></dt><dd>(&#x27;0&#x27;, &#x27;Smart sequencer variable&#x27;)</dd><dt><span>NBINCOL :</span></dt><dd>(&#x27;1&#x27;, &#x27;Smart sequencer variable&#x27;)</dd><dt><span>NBINROW :</span></dt><dd>(&#x27;1&#x27;, &#x27;Smart sequencer variable&#x27;)</dd><dt><span>NCOL :</span></dt><dd>(&#x27;400&#x27;, &#x27;Smart sequencer variable&#x27;)</dd><dt><span>NROW :</span></dt><dd>(&#x27;600&#x27;, &#x27;Smart sequencer variable&#x27;)</dd><dt><span>NSAMP :</span></dt><dd>(&#x27;1&#x27;, &#x27;Smart sequencer variable&#x27;)</dd><dt><span>SKIPCOL :</span></dt><dd>(&#x27;0&#x27;, &#x27;Smart sequencer variable&#x27;)</dd><dt><span>SKIPROW :</span></dt><dd>(&#x27;0&#x27;, &#x27;Smart sequencer variable&#x27;)</dd><dt><span>TOG_VDD :</span></dt><dd>(&#x27;1&#x27;, &#x27;Smart sequencer variable&#x27;)</dd><dt><span>TOG_VR :</span></dt><dd>(&#x27;0&#x27;, &#x27;Smart sequencer variable&#x27;)</dd><dt><span>DELAY_H_AFTER :</span></dt><dd>(&#x27;2&#x27;, &#x27;Smart sequencer variable&#x27;)</dd><dt><span>DELAY_H_OVERLAP :</span></dt><dd>(&#x27;150&#x27;, &#x27;Smart sequencer variable&#x27;)</dd><dt><span>DELAY_INTEG_PED :</span></dt><dd>(&#x27;340&#x27;, &#x27;Smart sequencer variable&#x27;)</dd><dt><span>DELAY_INTEG_SIG :</span></dt><dd>(&#x27;235&#x27;, &#x27;Smart sequencer variable&#x27;)</dd><dt><span>DELAY_RG_WIDTH :</span></dt><dd>(&#x27;15&#x27;, &#x27;Smart sequencer variable&#x27;)</dd><dt><span>DELAY_RG_AFTER :</span></dt><dd>(&#x27;5&#x27;, &#x27;Smart sequencer variable&#x27;)</dd><dt><span>DELAY_SW_AFTER :</span></dt><dd>(&#x27;5&#x27;, &#x27;Smart sequencer variable&#x27;)</dd><dt><span>DELAY_SWHIGH :</span></dt><dd>(&#x27;8&#x27;, &#x27;Smart sequencer variable&#x27;)</dd><dt><span>DELAY_V_OVERLAP :</span></dt><dd>(&#x27;300&#x27;, &#x27;Smart sequencer variable&#x27;)</dd><dt><span>DELAY_EXPOSE :</span></dt><dd>(&#x27;15000000&#x27;, &#x27;Smart sequencer variable&#x27;)</dd><dt><span>DELAY_INTEG_AFTER_SW_HIGH :</span></dt><dd>(&#x27;4&#x27;, &#x27;Smart sequencer variable&#x27;)</dd><dt><span>DELAY_OG_LOW :</span></dt><dd>(&#x27;15&#x27;, &#x27;Smart sequencer variable&#x27;)</dd><dt><span>V1AH :</span></dt><dd>(&#x27;-0.500&#x27;, &#x27;Internal variable&#x27;)</dd><dt><span>V1AL :</span></dt><dd>(&#x27;-2.500&#x27;, &#x27;Internal variable&#x27;)</dd><dt><span>V1BH :</span></dt><dd>(&#x27;-0.500&#x27;, &#x27;Internal variable&#x27;)</dd><dt><span>V1BL :</span></dt><dd>(&#x27;-2.500&#x27;, &#x27;Internal variable&#x27;)</dd><dt><span>V2CH :</span></dt><dd>(&#x27;-0.500&#x27;, &#x27;Internal variable&#x27;)</dd><dt><span>V2CL :</span></dt><dd>(&#x27;-2.500&#x27;, &#x27;Internal variable&#x27;)</dd><dt><span>V3AH :</span></dt><dd>(&#x27;-0.500&#x27;, &#x27;Internal variable&#x27;)</dd><dt><span>V3AL :</span></dt><dd>(&#x27;-2.500&#x27;, &#x27;Internal variable&#x27;)</dd><dt><span>V3BH :</span></dt><dd>(&#x27;-0.500&#x27;, &#x27;Internal variable&#x27;)</dd><dt><span>V3BL :</span></dt><dd>(&#x27;-2.500&#x27;, &#x27;Internal variable&#x27;)</dd><dt><span>H1AH :</span></dt><dd>(&#x27;-2.000&#x27;, &#x27;Internal variable&#x27;)</dd><dt><span>H1AL :</span></dt><dd>(&#x27;-4.500&#x27;, &#x27;Internal variable&#x27;)</dd><dt><span>H1BH :</span></dt><dd>(&#x27;-2.000&#x27;, &#x27;Internal variable&#x27;)</dd><dt><span>H1BL :</span></dt><dd>(&#x27;-4.500&#x27;, &#x27;Internal variable&#x27;)</dd><dt><span>H2CH :</span></dt><dd>(&#x27;-2.000&#x27;, &#x27;Internal variable&#x27;)</dd><dt><span>H2CL :</span></dt><dd>(&#x27;-4.500&#x27;, &#x27;Internal variable&#x27;)</dd><dt><span>H3AH :</span></dt><dd>(&#x27;-2.000&#x27;, &#x27;Internal variable&#x27;)</dd><dt><span>H3AL :</span></dt><dd>(&#x27;-4.500&#x27;, &#x27;Internal variable&#x27;)</dd><dt><span>H3BH :</span></dt><dd>(&#x27;-2.000&#x27;, &#x27;Internal variable&#x27;)</dd><dt><span>H3BL :</span></dt><dd>(&#x27;-4.500&#x27;, &#x27;Internal variable&#x27;)</dd><dt><span>SWAH :</span></dt><dd>(&#x27;-3.000&#x27;, &#x27;Internal variable&#x27;)</dd><dt><span>SWAL :</span></dt><dd>(&#x27;-10.000&#x27;, &#x27;Internal variable&#x27;)</dd><dt><span>SWBH :</span></dt><dd>(&#x27;-3.000&#x27;, &#x27;Internal variable&#x27;)</dd><dt><span>SWBL :</span></dt><dd>(&#x27;-10.000&#x27;, &#x27;Internal variable&#x27;)</dd><dt><span>RGAH :</span></dt><dd>(&#x27;7.000&#x27;, &#x27;Internal variable&#x27;)</dd><dt><span>RGAL :</span></dt><dd>(&#x27;-4.000&#x27;, &#x27;Internal variable&#x27;)</dd><dt><span>RGBH :</span></dt><dd>(&#x27;7.000&#x27;, &#x27;Internal variable&#x27;)</dd><dt><span>RGBL :</span></dt><dd>(&#x27;-4.000&#x27;, &#x27;Internal variable&#x27;)</dd><dt><span>OGAH :</span></dt><dd>(&#x27;-4.000&#x27;, &#x27;Internal variable&#x27;)</dd><dt><span>OGAL :</span></dt><dd>(&#x27;-8.000&#x27;, &#x27;Internal variable&#x27;)</dd><dt><span>OGBH :</span></dt><dd>(&#x27;-4.000&#x27;, &#x27;Internal variable&#x27;)</dd><dt><span>OGBL :</span></dt><dd>(&#x27;-8.000&#x27;, &#x27;Internal variable&#x27;)</dd><dt><span>DGAH :</span></dt><dd>(&#x27;-1.000&#x27;, &#x27;Internal variable&#x27;)</dd><dt><span>DGAL :</span></dt><dd>(&#x27;-10.000&#x27;, &#x27;Internal variable&#x27;)</dd><dt><span>DGBH :</span></dt><dd>(&#x27;-1.000&#x27;, &#x27;Internal variable&#x27;)</dd><dt><span>DGBL :</span></dt><dd>(&#x27;-10.000&#x27;, &#x27;Internal variable&#x27;)</dd><dt><span>TGAH :</span></dt><dd>(&#x27;-1.000&#x27;, &#x27;Internal variable&#x27;)</dd><dt><span>TGAL :</span></dt><dd>(&#x27;-3.500&#x27;, &#x27;Internal variable&#x27;)</dd><dt><span>TGBH :</span></dt><dd>(&#x27;-1.000&#x27;, &#x27;Internal variable&#x27;)</dd><dt><span>TGBL :</span></dt><dd>(&#x27;-3.500&#x27;, &#x27;Internal variable&#x27;)</dd><dt><span>LDAC_N :</span></dt><dd>(&#x27;0&#x27;, &#x27;Internal variable&#x27;)</dd><dt><span>CLR_N :</span></dt><dd>(&#x27;1&#x27;, &#x27;Internal variable&#x27;)</dd><dt><span>RESET_N :</span></dt><dd>(&#x27;1&#x27;, &#x27;Internal variable&#x27;)</dd><dt><span>SW_EN :</span></dt><dd>(&#x27;0&#x27;, &#x27;Internal variable&#x27;)</dd><dt><span>VDRAIN :</span></dt><dd>(&#x27;-24.000&#x27;, &#x27;Internal variable&#x27;)</dd><dt><span>VDD :</span></dt><dd>(&#x27;-21.000&#x27;, &#x27;Internal variable&#x27;)</dd><dt><span>VR :</span></dt><dd>(&#x27;-7.000&#x27;, &#x27;Internal variable&#x27;)</dd><dt><span>VSUB :</span></dt><dd>(&#x27;70.000&#x27;, &#x27;Internal variable&#x27;)</dd><dt><span>VDD_SW :</span></dt><dd>(&#x27;1&#x27;, &#x27;Internal variable&#x27;)</dd><dt><span>VDRAIN_SW :</span></dt><dd>(&#x27;1&#x27;, &#x27;Internal variable&#x27;)</dd><dt><span>VSUB_SW :</span></dt><dd>(&#x27;1&#x27;, &#x27;Internal variable&#x27;)</dd><dt><span>VSUB_LOAD_SW :</span></dt><dd>(&#x27;0&#x27;, &#x27;Internal variable&#x27;)</dd><dt><span>VSUB_RDIV_SW :</span></dt><dd>(&#x27;0&#x27;, &#x27;Internal variable&#x27;)</dd><dt><span>VR_SW :</span></dt><dd>(&#x27;1&#x27;, &#x27;Internal variable&#x27;)</dd><dt><span>P15V_SW :</span></dt><dd>(&#x27;1&#x27;, &#x27;Internal variable&#x27;)</dd><dt><span>M15V_SW :</span></dt><dd>(&#x27;1&#x27;, &#x27;Internal variable&#x27;)</dd><dt><span>PACKSOURCE :</span></dt><dd>(&#x27;9&#x27;, &#x27;Internal variable&#x27;)</dd><dt><span>PACKSTART :</span></dt><dd>(&#x27;1&#x27;, &#x27;Internal variable&#x27;)</dd><dt><span>ENA :</span></dt><dd>(&#x27;1&#x27;, &#x27;Internal variable&#x27;)</dd><dt><span>TESTPTRNA :</span></dt><dd>(&#x27;0&#x27;, &#x27;Internal variable&#x27;)</dd><dt><span>BITSLIPA :</span></dt><dd>(&#x27;0&#x27;, &#x27;Internal variable&#x27;)</dd><dt><span>PDA :</span></dt><dd>(&#x27;1&#x27;, &#x27;Internal variable&#x27;)</dd><dt><span>ENB :</span></dt><dd>(&#x27;1&#x27;, &#x27;Internal variable&#x27;)</dd><dt><span>TESTPTRNB :</span></dt><dd>(&#x27;0&#x27;, &#x27;Internal variable&#x27;)</dd><dt><span>BITSLIPB :</span></dt><dd>(&#x27;0&#x27;, &#x27;Internal variable&#x27;)</dd><dt><span>PDB :</span></dt><dd>(&#x27;1&#x27;, &#x27;Internal variable&#x27;)</dd><dt><span>ENC :</span></dt><dd>(&#x27;1&#x27;, &#x27;Internal variable&#x27;)</dd><dt><span>TESTPTRNC :</span></dt><dd>(&#x27;0&#x27;, &#x27;Internal variable&#x27;)</dd><dt><span>BITSLIPC :</span></dt><dd>(&#x27;0&#x27;, &#x27;Internal variable&#x27;)</dd><dt><span>PDC :</span></dt><dd>(&#x27;1&#x27;, &#x27;Internal variable&#x27;)</dd><dt><span>END_ :</span></dt><dd>(&#x27;1&#x27;, &#x27;Internal variable&#x27;)</dd><dt><span>TESTPTRND :</span></dt><dd>(&#x27;0&#x27;, &#x27;Internal variable&#x27;)</dd><dt><span>BITSLIPD :</span></dt><dd>(&#x27;0&#x27;, &#x27;Internal variable&#x27;)</dd><dt><span>PDD :</span></dt><dd>(&#x27;1&#x27;, &#x27;Internal variable&#x27;)</dd><dt><span>PINIT :</span></dt><dd>(&#x27;0&#x27;, &#x27;Internal variable&#x27;)</dd><dt><span>SINIT :</span></dt><dd>(&#x27;30&#x27;, &#x27;Internal variable&#x27;)</dd><dt><span>PSAMP :</span></dt><dd>(&#x27;200&#x27;, &#x27;Internal variable&#x27;)</dd><dt><span>SSAMP :</span></dt><dd>(&#x27;200&#x27;, &#x27;Internal variable&#x27;)</dd><dt><span>CDSOUT :</span></dt><dd>(&#x27;2&#x27;, &#x27;Internal variable&#x27;)</dd><dt><span>ECHO :</span></dt><dd>(&#x27;0.000&#x27;, &#x27;Internal variable&#x27;)</dd><dt><span>OUTETH :</span></dt><dd>(&#x27;1.000&#x27;, &#x27;Internal variable&#x27;)</dd><dt><span>LED0 :</span></dt><dd>(&#x27;1&#x27;, &#x27;Internal variable&#x27;)</dd><dt><span>LED1 :</span></dt><dd>(&#x27;1&#x27;, &#x27;Internal variable&#x27;)</dd><dt><span>LED2 :</span></dt><dd>(&#x27;0&#x27;, &#x27;Internal variable&#x27;)</dd><dt><span>LED3 :</span></dt><dd>(&#x27;0&#x27;, &#x27;Internal variable&#x27;)</dd><dt><span>LED4 :</span></dt><dd>(&#x27;0&#x27;, &#x27;Internal variable&#x27;)</dd><dt><span>LED5 :</span></dt><dd>(&#x27;0&#x27;, &#x27;Internal variable&#x27;)</dd><dt><span>BUFSEL :</span></dt><dd>(&#x27;0&#x27;, &#x27;Internal variable&#x27;)</dd><dt><span>BUFSTART :</span></dt><dd>(&#x27;0&#x27;, &#x27;Internal variable&#x27;)</dd><dt><span>IPADDR :</span></dt><dd>(&#x27;192.168.133.9&#x27;, &#x27;Internal variable&#x27;)</dd><dt><span>ISSLAVE :</span></dt><dd>(&#x27;0&#x27;, &#x27;Internal variable&#x27;)</dd><dt><span>SYNCSTOP :</span></dt><dd>(&#x27;0&#x27;, &#x27;Internal variable&#x27;)</dd><dt><span>SYNCDELAY :</span></dt><dd>(&#x27;0&#x27;, &#x27;Internal variable&#x27;)</dd><dt><span>FRFCLK :</span></dt><dd>(&#x27;75000&#x27;, &#x27;Internal variable&#x27;)</dd><dt><span>FRFMEAS :</span></dt><dd>(&#x27;1&#x27;, &#x27;Internal variable&#x27;)</dd><dt><span>SWA :</span></dt><dd>(&#x27;-10.000&#x27;, &#x27;Internal variable&#x27;)</dd><dt><span>SWB :</span></dt><dd>(&#x27;-10.000&#x27;, &#x27;Internal variable&#x27;)</dd><dt><span>OGA :</span></dt><dd>(&#x27;-4.045&#x27;, &#x27;Internal variable&#x27;)</dd><dt><span>OGB :</span></dt><dd>(&#x27;-4.047&#x27;, &#x27;Internal variable&#x27;)</dd><dt><span>RGA :</span></dt><dd>(&#x27;-4.060&#x27;, &#x27;Internal variable&#x27;)</dd><dt><span>RGB :</span></dt><dd>(&#x27;-4.050&#x27;, &#x27;Internal variable&#x27;)</dd><dt><span>DGA :</span></dt><dd>(&#x27;-1.047&#x27;, &#x27;Internal variable&#x27;)</dd><dt><span>DGB :</span></dt><dd>(&#x27;-1.044&#x27;, &#x27;Internal variable&#x27;)</dd><dt><span>H1A :</span></dt><dd>(&#x27;-2.050&#x27;, &#x27;Internal variable&#x27;)</dd><dt><span>H1B :</span></dt><dd>(&#x27;-2.060&#x27;, &#x27;Internal variable&#x27;)</dd><dt><span>H2C :</span></dt><dd>(&#x27;-4.548&#x27;, &#x27;Internal variable&#x27;)</dd><dt><span>V2C :</span></dt><dd>(&#x27;-2.597&#x27;, &#x27;Internal variable&#x27;)</dd><dt><span>H3A :</span></dt><dd>(&#x27;-2.048&#x27;, &#x27;Internal variable&#x27;)</dd><dt><span>H3B :</span></dt><dd>(&#x27;-2.065&#x27;, &#x27;Internal variable&#x27;)</dd><dt><span>V1A :</span></dt><dd>(&#x27;-0.595&#x27;, &#x27;Internal variable&#x27;)</dd><dt><span>V1B :</span></dt><dd>(&#x27;-0.581&#x27;, &#x27;Internal variable&#x27;)</dd><dt><span>V3A :</span></dt><dd>(&#x27;-0.605&#x27;, &#x27;Internal variable&#x27;)</dd><dt><span>V3B :</span></dt><dd>(&#x27;-0.581&#x27;, &#x27;Internal variable&#x27;)</dd><dt><span>TGA :</span></dt><dd>(&#x27;-1.052&#x27;, &#x27;Internal variable&#x27;)</dd><dt><span>TGB :</span></dt><dd>(&#x27;-1.042&#x27;, &#x27;Internal variable&#x27;)</dd><dt><span>V_P2V5 :</span></dt><dd>(&#x27;2.495&#x27;, &#x27;Internal variable&#x27;)</dd><dt><span>V_P1V0 :</span></dt><dd>(&#x27;0.996&#x27;, &#x27;Internal variable&#x27;)</dd><dt><span>V_P4V2 :</span></dt><dd>(&#x27;4.213&#x27;, &#x27;Internal variable&#x27;)</dd><dt><span>V_P1V8 :</span></dt><dd>(&#x27;1.794&#x27;, &#x27;Internal variable&#x27;)</dd><dt><span>V_P5V0 :</span></dt><dd>(&#x27;4.982&#x27;, &#x27;Internal variable&#x27;)</dd><dt><span>V_P2V5A :</span></dt><dd>(&#x27;2.497&#x27;, &#x27;Internal variable&#x27;)</dd><dt><span>V_P3V3 :</span></dt><dd>(&#x27;3.310&#x27;, &#x27;Internal variable&#x27;)</dd><dt><span>V_M15V0 :</span></dt><dd>(&#x27;-15.028&#x27;, &#x27;Internal variable&#x27;)</dd><dt><span>V_P12V0 :</span></dt><dd>(&#x27;11.533&#x27;, &#x27;Internal variable&#x27;)</dd><dt><span>V_P15V0 :</span></dt><dd>(&#x27;14.710&#x27;, &#x27;Internal variable&#x27;)</dd><dt><span>CCD_VDD :</span></dt><dd>(&#x27;-20.917&#x27;, &#x27;Internal variable&#x27;)</dd><dt><span>CCD_VR :</span></dt><dd>(&#x27;-7.086&#x27;, &#x27;Internal variable&#x27;)</dd><dt><span>CCD_VSUB :</span></dt><dd>(&#x27;68.860&#x27;, &#x27;Internal variable&#x27;)</dd><dt><span>CCD_VDRAIN :</span></dt><dd>(&#x27;-24.289&#x27;, &#x27;Internal variable&#x27;)</dd><dt><span>ISMULTI :</span></dt><dd>(&#x27;0&#x27;, &#x27;Multi-LTA mode&#x27;)</dd><dt><span>DATESTART :</span></dt><dd>(&#x27;2021-07-07T00:59:15&#x27;, &#x27;Timestamp at start of readout&#x27;)</dd><dt><span>DATEEND :</span></dt><dd>(&#x27;2021-07-07T00:59:41&#x27;, &#x27;Timestamp at end of readout&#x27;)</dd><dt><span>CHID :</span></dt><dd>(&#x27;12&#x27;, &#x27;amplifier ID for this HDU&#x27;)</dd><dt><span>RUNID :</span></dt><dd>(&#x27;20&#x27;, &#x27;run index&#x27;)</dd><dt><span>NPIX :</span></dt><dd>(&#x27;240000&#x27;, &#x27;number of pixels read from LTA&#x27;)</dd><dt><span>DATE :</span></dt><dd>(&#x27;2021-07-07T00:59:46&#x27;, &#x27;file creation date (YYYY-MM-DDThh:mm:ss UT)&#x27;)</dd><dt><span>EXTEND :</span></dt><dd>(True, &#x27;FITS dataset may contain extensions&#x27;)</dd></dl></div></li></ul></div></div>"
      ],
      "text/plain": [
       "<xarray.DataArray (chid: 4, row: 600, col: 400)>\n",
       "array([[[-5.78000e+02, -5.97000e+02, -2.84000e+02, ..., -7.70000e+01,\n",
       "          1.06000e+02, -3.80000e+01],\n",
       "        [-1.83000e+02,  3.40000e+01,  8.00000e+00, ...,  5.80000e+01,\n",
       "          1.01000e+02,  3.05000e+02],\n",
       "        [-5.60000e+01,  8.60000e+01,  2.27000e+02, ...,  8.70000e+01,\n",
       "          1.72000e+02,  4.50000e+01],\n",
       "        ...,\n",
       "        [-2.40000e+01,  1.84000e+02,  1.19000e+02, ...,  2.42000e+02,\n",
       "         -1.60000e+01,  9.60000e+01],\n",
       "        [ 3.09000e+02,  8.40000e+01,  1.52000e+02, ...,  8.80000e+01,\n",
       "          1.50000e+01,  1.69000e+02],\n",
       "        [ 5.60000e+01,  1.12000e+02,  2.01000e+02, ...,  8.90000e+01,\n",
       "          2.63000e+02,  7.40000e+01]],\n",
       "\n",
       "       [[-4.88000e+02, -5.97000e+02, -1.41200e+03, ..., -5.00000e+01,\n",
       "         -1.10000e+01, -1.08000e+02],\n",
       "        [-2.36000e+02, -7.60000e+01,  4.30000e+01, ...,  1.08000e+02,\n",
       "          6.60000e+01,  1.60000e+02],\n",
       "        [-4.00000e+00,  1.57000e+02,  1.60000e+02, ...,  2.10000e+01,\n",
       "          1.78000e+02,  5.00000e+01],\n",
       "...\n",
       "        [ 8.98080e+04,  6.05850e+04,  5.10350e+04, ...,  4.95660e+04,\n",
       "          5.04990e+04,  5.39700e+04],\n",
       "        [ 2.14690e+04,  7.69140e+04,  4.56050e+04, ...,  5.51880e+04,\n",
       "          5.30740e+04,  4.73010e+04],\n",
       "        [ 1.30343e+05,  5.24980e+04,  5.16470e+04, ...,  5.55830e+04,\n",
       "          5.68560e+04,  5.59660e+04]],\n",
       "\n",
       "       [[-1.60000e+01, -2.05000e+02, -4.03000e+02, ..., -1.20000e+02,\n",
       "          2.60000e+01,  3.60000e+01],\n",
       "        [-5.80000e+01, -6.50000e+01,  2.80000e+01, ...,  5.79760e+04,\n",
       "          6.47890e+04,  6.18530e+04],\n",
       "        [ 1.35041e+05,  9.13260e+04,  6.25630e+04, ...,  6.67270e+04,\n",
       "          7.13440e+04,  6.93930e+04],\n",
       "        ...,\n",
       "        [ 1.07573e+05,  7.69290e+04,  6.61360e+04, ...,  6.50880e+04,\n",
       "          6.86840e+04,  6.98890e+04],\n",
       "        [ 3.19640e+04,  9.47020e+04,  6.25010e+04, ...,  6.86380e+04,\n",
       "          7.11590e+04,  6.43180e+04],\n",
       "        [ 1.52848e+05,  6.87910e+04,  6.57590e+04, ...,  7.23200e+04,\n",
       "          7.42020e+04,  7.37240e+04]]])\n",
       "Coordinates:\n",
       "  * chid     (chid) object '12' '13' '14' '15'\n",
       "  * row      (row) int64 0 1 2 3 4 5 6 7 8 ... 592 593 594 595 596 597 598 599\n",
       "  * col      (col) int64 0 1 2 3 4 5 6 7 8 ... 392 393 394 395 396 397 398 399\n",
       "Attributes:\n",
       "    SIMPLE:                     (True, 'file does conform to FITS standard')\n",
       "    BITPIX:                     (32, 'number of bits per data pixel')\n",
       "    NAXIS:                      (2, 'number of data axes')\n",
       "    NAXIS1:                     (400, 'length of data axis 1')\n",
       "    NAXIS2:                     (600, 'length of data axis 2')\n",
       "    PCOUNT:                     (0, 'size of special data area')\n",
       "    GCOUNT:                     (1, 'one data group (required keyword)')\n",
       "    XTENSION:                   ('BINTABLE', 'binary table extension')\n",
       "    COMMENT:                    (  FITS (Flexible Image Transport System) for...\n",
       "    CCDNCOL:                    ('512', 'Smart sequencer variable')\n",
       "    CCDNPRES:                   ('7', 'Smart sequencer variable')\n",
       "    CCDNROW:                    ('1024', 'Smart sequencer variable')\n",
       "    EXPOSURE:                   ('0', 'Smart sequencer variable')\n",
       "    NBINCOL:                    ('1', 'Smart sequencer variable')\n",
       "    NBINROW:                    ('1', 'Smart sequencer variable')\n",
       "    NCOL:                       ('400', 'Smart sequencer variable')\n",
       "    NROW:                       ('600', 'Smart sequencer variable')\n",
       "    NSAMP:                      ('1', 'Smart sequencer variable')\n",
       "    SKIPCOL:                    ('0', 'Smart sequencer variable')\n",
       "    SKIPROW:                    ('0', 'Smart sequencer variable')\n",
       "    TOG_VDD:                    ('1', 'Smart sequencer variable')\n",
       "    TOG_VR:                     ('0', 'Smart sequencer variable')\n",
       "    DELAY_H_AFTER:              ('2', 'Smart sequencer variable')\n",
       "    DELAY_H_OVERLAP:            ('150', 'Smart sequencer variable')\n",
       "    DELAY_INTEG_PED:            ('340', 'Smart sequencer variable')\n",
       "    DELAY_INTEG_SIG:            ('235', 'Smart sequencer variable')\n",
       "    DELAY_RG_WIDTH:             ('15', 'Smart sequencer variable')\n",
       "    DELAY_RG_AFTER:             ('5', 'Smart sequencer variable')\n",
       "    DELAY_SW_AFTER:             ('5', 'Smart sequencer variable')\n",
       "    DELAY_SWHIGH:               ('8', 'Smart sequencer variable')\n",
       "    DELAY_V_OVERLAP:            ('300', 'Smart sequencer variable')\n",
       "    DELAY_EXPOSE:               ('15000000', 'Smart sequencer variable')\n",
       "    DELAY_INTEG_AFTER_SW_HIGH:  ('4', 'Smart sequencer variable')\n",
       "    DELAY_OG_LOW:               ('15', 'Smart sequencer variable')\n",
       "    V1AH:                       ('-0.500', 'Internal variable')\n",
       "    V1AL:                       ('-2.500', 'Internal variable')\n",
       "    V1BH:                       ('-0.500', 'Internal variable')\n",
       "    V1BL:                       ('-2.500', 'Internal variable')\n",
       "    V2CH:                       ('-0.500', 'Internal variable')\n",
       "    V2CL:                       ('-2.500', 'Internal variable')\n",
       "    V3AH:                       ('-0.500', 'Internal variable')\n",
       "    V3AL:                       ('-2.500', 'Internal variable')\n",
       "    V3BH:                       ('-0.500', 'Internal variable')\n",
       "    V3BL:                       ('-2.500', 'Internal variable')\n",
       "    H1AH:                       ('-2.000', 'Internal variable')\n",
       "    H1AL:                       ('-4.500', 'Internal variable')\n",
       "    H1BH:                       ('-2.000', 'Internal variable')\n",
       "    H1BL:                       ('-4.500', 'Internal variable')\n",
       "    H2CH:                       ('-2.000', 'Internal variable')\n",
       "    H2CL:                       ('-4.500', 'Internal variable')\n",
       "    H3AH:                       ('-2.000', 'Internal variable')\n",
       "    H3AL:                       ('-4.500', 'Internal variable')\n",
       "    H3BH:                       ('-2.000', 'Internal variable')\n",
       "    H3BL:                       ('-4.500', 'Internal variable')\n",
       "    SWAH:                       ('-3.000', 'Internal variable')\n",
       "    SWAL:                       ('-10.000', 'Internal variable')\n",
       "    SWBH:                       ('-3.000', 'Internal variable')\n",
       "    SWBL:                       ('-10.000', 'Internal variable')\n",
       "    RGAH:                       ('7.000', 'Internal variable')\n",
       "    RGAL:                       ('-4.000', 'Internal variable')\n",
       "    RGBH:                       ('7.000', 'Internal variable')\n",
       "    RGBL:                       ('-4.000', 'Internal variable')\n",
       "    OGAH:                       ('-4.000', 'Internal variable')\n",
       "    OGAL:                       ('-8.000', 'Internal variable')\n",
       "    OGBH:                       ('-4.000', 'Internal variable')\n",
       "    OGBL:                       ('-8.000', 'Internal variable')\n",
       "    DGAH:                       ('-1.000', 'Internal variable')\n",
       "    DGAL:                       ('-10.000', 'Internal variable')\n",
       "    DGBH:                       ('-1.000', 'Internal variable')\n",
       "    DGBL:                       ('-10.000', 'Internal variable')\n",
       "    TGAH:                       ('-1.000', 'Internal variable')\n",
       "    TGAL:                       ('-3.500', 'Internal variable')\n",
       "    TGBH:                       ('-1.000', 'Internal variable')\n",
       "    TGBL:                       ('-3.500', 'Internal variable')\n",
       "    LDAC_N:                     ('0', 'Internal variable')\n",
       "    CLR_N:                      ('1', 'Internal variable')\n",
       "    RESET_N:                    ('1', 'Internal variable')\n",
       "    SW_EN:                      ('0', 'Internal variable')\n",
       "    VDRAIN:                     ('-24.000', 'Internal variable')\n",
       "    VDD:                        ('-21.000', 'Internal variable')\n",
       "    VR:                         ('-7.000', 'Internal variable')\n",
       "    VSUB:                       ('70.000', 'Internal variable')\n",
       "    VDD_SW:                     ('1', 'Internal variable')\n",
       "    VDRAIN_SW:                  ('1', 'Internal variable')\n",
       "    VSUB_SW:                    ('1', 'Internal variable')\n",
       "    VSUB_LOAD_SW:               ('0', 'Internal variable')\n",
       "    VSUB_RDIV_SW:               ('0', 'Internal variable')\n",
       "    VR_SW:                      ('1', 'Internal variable')\n",
       "    P15V_SW:                    ('1', 'Internal variable')\n",
       "    M15V_SW:                    ('1', 'Internal variable')\n",
       "    PACKSOURCE:                 ('9', 'Internal variable')\n",
       "    PACKSTART:                  ('1', 'Internal variable')\n",
       "    ENA:                        ('1', 'Internal variable')\n",
       "    TESTPTRNA:                  ('0', 'Internal variable')\n",
       "    BITSLIPA:                   ('0', 'Internal variable')\n",
       "    PDA:                        ('1', 'Internal variable')\n",
       "    ENB:                        ('1', 'Internal variable')\n",
       "    TESTPTRNB:                  ('0', 'Internal variable')\n",
       "    BITSLIPB:                   ('0', 'Internal variable')\n",
       "    PDB:                        ('1', 'Internal variable')\n",
       "    ENC:                        ('1', 'Internal variable')\n",
       "    TESTPTRNC:                  ('0', 'Internal variable')\n",
       "    BITSLIPC:                   ('0', 'Internal variable')\n",
       "    PDC:                        ('1', 'Internal variable')\n",
       "    END_:                       ('1', 'Internal variable')\n",
       "    TESTPTRND:                  ('0', 'Internal variable')\n",
       "    BITSLIPD:                   ('0', 'Internal variable')\n",
       "    PDD:                        ('1', 'Internal variable')\n",
       "    PINIT:                      ('0', 'Internal variable')\n",
       "    SINIT:                      ('30', 'Internal variable')\n",
       "    PSAMP:                      ('200', 'Internal variable')\n",
       "    SSAMP:                      ('200', 'Internal variable')\n",
       "    CDSOUT:                     ('2', 'Internal variable')\n",
       "    ECHO:                       ('0.000', 'Internal variable')\n",
       "    OUTETH:                     ('1.000', 'Internal variable')\n",
       "    LED0:                       ('1', 'Internal variable')\n",
       "    LED1:                       ('1', 'Internal variable')\n",
       "    LED2:                       ('0', 'Internal variable')\n",
       "    LED3:                       ('0', 'Internal variable')\n",
       "    LED4:                       ('0', 'Internal variable')\n",
       "    LED5:                       ('0', 'Internal variable')\n",
       "    BUFSEL:                     ('0', 'Internal variable')\n",
       "    BUFSTART:                   ('0', 'Internal variable')\n",
       "    IPADDR:                     ('192.168.133.9', 'Internal variable')\n",
       "    ISSLAVE:                    ('0', 'Internal variable')\n",
       "    SYNCSTOP:                   ('0', 'Internal variable')\n",
       "    SYNCDELAY:                  ('0', 'Internal variable')\n",
       "    FRFCLK:                     ('75000', 'Internal variable')\n",
       "    FRFMEAS:                    ('1', 'Internal variable')\n",
       "    SWA:                        ('-10.000', 'Internal variable')\n",
       "    SWB:                        ('-10.000', 'Internal variable')\n",
       "    OGA:                        ('-4.045', 'Internal variable')\n",
       "    OGB:                        ('-4.047', 'Internal variable')\n",
       "    RGA:                        ('-4.060', 'Internal variable')\n",
       "    RGB:                        ('-4.050', 'Internal variable')\n",
       "    DGA:                        ('-1.047', 'Internal variable')\n",
       "    DGB:                        ('-1.044', 'Internal variable')\n",
       "    H1A:                        ('-2.050', 'Internal variable')\n",
       "    H1B:                        ('-2.060', 'Internal variable')\n",
       "    H2C:                        ('-4.548', 'Internal variable')\n",
       "    V2C:                        ('-2.597', 'Internal variable')\n",
       "    H3A:                        ('-2.048', 'Internal variable')\n",
       "    H3B:                        ('-2.065', 'Internal variable')\n",
       "    V1A:                        ('-0.595', 'Internal variable')\n",
       "    V1B:                        ('-0.581', 'Internal variable')\n",
       "    V3A:                        ('-0.605', 'Internal variable')\n",
       "    V3B:                        ('-0.581', 'Internal variable')\n",
       "    TGA:                        ('-1.052', 'Internal variable')\n",
       "    TGB:                        ('-1.042', 'Internal variable')\n",
       "    V_P2V5:                     ('2.495', 'Internal variable')\n",
       "    V_P1V0:                     ('0.996', 'Internal variable')\n",
       "    V_P4V2:                     ('4.213', 'Internal variable')\n",
       "    V_P1V8:                     ('1.794', 'Internal variable')\n",
       "    V_P5V0:                     ('4.982', 'Internal variable')\n",
       "    V_P2V5A:                    ('2.497', 'Internal variable')\n",
       "    V_P3V3:                     ('3.310', 'Internal variable')\n",
       "    V_M15V0:                    ('-15.028', 'Internal variable')\n",
       "    V_P12V0:                    ('11.533', 'Internal variable')\n",
       "    V_P15V0:                    ('14.710', 'Internal variable')\n",
       "    CCD_VDD:                    ('-20.917', 'Internal variable')\n",
       "    CCD_VR:                     ('-7.086', 'Internal variable')\n",
       "    CCD_VSUB:                   ('68.860', 'Internal variable')\n",
       "    CCD_VDRAIN:                 ('-24.289', 'Internal variable')\n",
       "    ISMULTI:                    ('0', 'Multi-LTA mode')\n",
       "    DATESTART:                  ('2021-07-07T00:59:15', 'Timestamp at start o...\n",
       "    DATEEND:                    ('2021-07-07T00:59:41', 'Timestamp at end of ...\n",
       "    CHID:                       ('12', 'amplifier ID for this HDU')\n",
       "    RUNID:                      ('20', 'run index')\n",
       "    NPIX:                       ('240000', 'number of pixels read from LTA')\n",
       "    DATE:                       ('2021-07-07T00:59:46', 'file creation date (...\n",
       "    EXTEND:                     (True, 'FITS dataset may contain extensions')"
      ]
     },
     "execution_count": 31,
     "metadata": {},
     "output_type": "execute_result"
    }
   ],
   "source": [
    "da"
   ]
  },
  {
   "cell_type": "markdown",
   "metadata": {},
   "source": [
    "# trimming\n",
    "\n",
    "The defective columns are found inspecting the median projections.\n",
    "`col` 0:8 and 347:349; `row` 0:1 and 511:513 were removed."
   ]
  },
  {
   "cell_type": "code",
   "execution_count": 32,
   "metadata": {},
   "outputs": [
    {
     "data": {
      "application/vnd.jupyter.widget-view+json": {
       "model_id": "906c57404de244d1b3d4262e2555d7ae",
       "version_major": 2,
       "version_minor": 0
      },
      "text/plain": [
       "Canvas(toolbar=Toolbar(toolitems=[('Home', 'Reset original view', 'home', 'home'), ('Back', 'Back to previous …"
      ]
     },
     "metadata": {},
     "output_type": "display_data"
    },
    {
     "name": "stdout",
     "output_type": "stream",
     "text": [
      "<class 'matplotlib.axes._axes.Axes'>\n"
     ]
    },
    {
     "data": {
      "application/vnd.jupyter.widget-view+json": {
       "model_id": "9c45966e343f4bba955109f8f8a5610b",
       "version_major": 2,
       "version_minor": 0
      },
      "text/plain": [
       "Canvas(toolbar=Toolbar(toolitems=[('Home', 'Reset original view', 'home', 'home'), ('Back', 'Back to previous …"
      ]
     },
     "metadata": {},
     "output_type": "display_data"
    },
    {
     "name": "stdout",
     "output_type": "stream",
     "text": [
      "<class 'matplotlib.axes._axes.Axes'>\n"
     ]
    }
   ],
   "source": [
    "da.isel(chid=0).skipper.centralize().skipper.plot_full( robust=True );\n",
    "da.isel(chid=0).skipper.trim().skipper.centralize().skipper.plot_full( robust=True );"
   ]
  },
  {
   "cell_type": "markdown",
   "metadata": {},
   "source": [
    "# modulation\n",
    "\n",
    "The modulation is isolated in the overscans."
   ]
  },
  {
   "cell_type": "code",
   "execution_count": 33,
   "metadata": {},
   "outputs": [
    {
     "data": {
      "application/vnd.jupyter.widget-view+json": {
       "model_id": "f33de0d2e5e9417dbd02cad176520c60",
       "version_major": 2,
       "version_minor": 0
      },
      "text/plain": [
       "Canvas(toolbar=Toolbar(toolitems=[('Home', 'Reset original view', 'home', 'home'), ('Back', 'Back to previous …"
      ]
     },
     "metadata": {},
     "output_type": "display_data"
    },
    {
     "name": "stdout",
     "output_type": "stream",
     "text": [
      "<class 'matplotlib.axes._axes.Axes'>\n"
     ]
    },
    {
     "data": {
      "application/vnd.jupyter.widget-view+json": {
       "model_id": "9b9036b93b374091a3dcdd68c7a17db3",
       "version_major": 2,
       "version_minor": 0
      },
      "text/plain": [
       "Canvas(toolbar=Toolbar(toolitems=[('Home', 'Reset original view', 'home', 'home'), ('Back', 'Back to previous …"
      ]
     },
     "metadata": {},
     "output_type": "display_data"
    },
    {
     "name": "stdout",
     "output_type": "stream",
     "text": [
      "<class 'matplotlib.axes._axes.Axes'>\n"
     ]
    }
   ],
   "source": [
    "da.isel(chid=0).skipper.trim().skipper.centralize().skipper.overscan(\"row\", keep_size = True).skipper.plot_full( robust = True );\n",
    "da.isel(chid=0).skipper.trim().skipper.centralize().skipper.overscan(\"col\", keep_size = True).skipper.plot_full( robust = True );"
   ]
  },
  {
   "cell_type": "code",
   "execution_count": 42,
   "metadata": {},
   "outputs": [
    {
     "name": "stdout",
     "output_type": "stream",
     "text": [
      "{'row': slice(512, None, None)}\n"
     ]
    },
    {
     "data": {
      "application/vnd.jupyter.widget-view+json": {
       "model_id": "35751f736edf4f8bbda2b5745f7e97e7",
       "version_major": 2,
       "version_minor": 0
      },
      "text/plain": [
       "Canvas(toolbar=Toolbar(toolitems=[('Home', 'Reset original view', 'home', 'home'), ('Back', 'Back to previous …"
      ]
     },
     "metadata": {},
     "output_type": "display_data"
    },
    {
     "name": "stdout",
     "output_type": "stream",
     "text": [
      "<class 'matplotlib.axes._axes.Axes'>\n",
      "{'col': slice(349, None, None)}\n"
     ]
    },
    {
     "data": {
      "application/vnd.jupyter.widget-view+json": {
       "model_id": "7fb082e40b5f4d9ebae01fb7c1c46b10",
       "version_major": 2,
       "version_minor": 0
      },
      "text/plain": [
       "Canvas(toolbar=Toolbar(toolitems=[('Home', 'Reset original view', 'home', 'home'), ('Back', 'Back to previous …"
      ]
     },
     "metadata": {},
     "output_type": "display_data"
    },
    {
     "name": "stdout",
     "output_type": "stream",
     "text": [
      "<class 'matplotlib.axes._axes.Axes'>\n",
      "{'row': slice(512, None, None), 'col': slice(349, None, None)}\n"
     ]
    },
    {
     "data": {
      "application/vnd.jupyter.widget-view+json": {
       "model_id": "51d28dd63ddb41e2b687e3b9e7d6b2a9",
       "version_major": 2,
       "version_minor": 0
      },
      "text/plain": [
       "Canvas(toolbar=Toolbar(toolitems=[('Home', 'Reset original view', 'home', 'home'), ('Back', 'Back to previous …"
      ]
     },
     "metadata": {},
     "output_type": "display_data"
    },
    {
     "name": "stdout",
     "output_type": "stream",
     "text": [
      "<class 'matplotlib.axes._axes.Axes'>\n"
     ]
    }
   ],
   "source": [
    "da.isel(chid=0).skipper.trim().skipper.demodulate(\"row\").skipper.plot_full( robust = True );\n",
    "da.isel(chid=0).skipper.trim().skipper.demodulate(\"col\").skipper.plot_full( robust = True );\n",
    "da.isel(chid=0).skipper.trim().skipper.demodulate([\"row\",\"col\"]).skipper.plot_full( robust = True );"
   ]
  },
  {
   "cell_type": "code",
   "execution_count": 35,
   "metadata": {},
   "outputs": [
    {
     "data": {
      "text/plain": [
       "[<matplotlib.lines.Line2D at 0x7fb37ef6a4e0>]"
      ]
     },
     "execution_count": 35,
     "metadata": {},
     "output_type": "execute_result"
    }
   ],
   "source": [
    "da.isel(chid=0).isel(col = slice(None, None)).skipper.plot_projection( mode=\"median\", dim=\"col\", hue=\"chid\" )\n",
    "da.isel(chid=0).isel(col = slice(-30, None)).skipper.plot_projection( mode=\"median\", dim=\"col\", hue=\"chid\" )"
   ]
  },
  {
   "cell_type": "code",
   "execution_count": 36,
   "metadata": {},
   "outputs": [
    {
     "data": {
      "text/plain": [
       "[<matplotlib.lines.Line2D at 0x7fb37f24b128>]"
      ]
     },
     "execution_count": 36,
     "metadata": {},
     "output_type": "execute_result"
    }
   ],
   "source": [
    "da.isel(chid=0).isel( row=slice( None, None ) ).skipper.plot_projection( mode=\"median\", dim=\"row\", hue=\"chid\")\n",
    "da.isel(chid=0).isel( row=slice( -30, None ) ).skipper.plot_projection( mode=\"median\", dim=\"row\", hue=\"chid\")"
   ]
  },
  {
   "cell_type": "code",
   "execution_count": 37,
   "metadata": {},
   "outputs": [
    {
     "data": {
      "text/plain": [
       "<matplotlib.image.AxesImage at 0x7fb37ef60a90>"
      ]
     },
     "execution_count": 37,
     "metadata": {},
     "output_type": "execute_result"
    }
   ],
   "source": [
    "# da.isel(chid=0).skipper.plot_projection( mode=\"max\", dim=\"row\", hue=\"chid\")\n",
    "# da.isel(chid=0).skipper.demodulate(\"col\", sel=slice(None,None)).skipper.plot_projection( mode=\"max\", dim=\"col\", hue=\"chid\")\n",
    "\n",
    "da.skipper.trim().isel(chid=0).skipper.plot_imshow( robust=True )\n",
    "# da.isel(chid=0).skipper.demodulate(\"col\", sel=slice(None,None)).skipper.plot_projection( mode=\"min\", dim=\"col\", hue=\"chid\")\n",
    "# plt.legend()"
   ]
  },
  {
   "cell_type": "code",
   "execution_count": 38,
   "metadata": {},
   "outputs": [
    {
     "name": "stdout",
     "output_type": "stream",
     "text": [
      "{'col': slice(-50, None, None)}\n"
     ]
    },
    {
     "data": {
      "text/plain": [
       "<matplotlib.image.AxesImage at 0x7fb37ef2bb38>"
      ]
     },
     "execution_count": 38,
     "metadata": {},
     "output_type": "execute_result"
    }
   ],
   "source": [
    "da.skipper.trim().isel(chid=0).skipper.modulation({\"col\": slice(-50,None)}).skipper.plot_imshow( robust=True )"
   ]
  },
  {
   "cell_type": "code",
   "execution_count": 39,
   "metadata": {},
   "outputs": [
    {
     "name": "stdout",
     "output_type": "stream",
     "text": [
      "{'row': slice(-50, None, None)}\n"
     ]
    },
    {
     "data": {
      "text/plain": [
       "<matplotlib.image.AxesImage at 0x7fb37eeee6d8>"
      ]
     },
     "execution_count": 39,
     "metadata": {},
     "output_type": "execute_result"
    }
   ],
   "source": [
    "da.skipper.trim().isel(chid=0).skipper.modulation({\"row\":slice(-50,None)}).skipper.plot_imshow( robust=True )"
   ]
  },
  {
   "cell_type": "code",
   "execution_count": 40,
   "metadata": {},
   "outputs": [
    {
     "name": "stdout",
     "output_type": "stream",
     "text": [
      "{'row': slice(512, None, None), 'col': slice(348, None, None)}\n"
     ]
    },
    {
     "data": {
      "text/plain": [
       "<matplotlib.image.AxesImage at 0x7fb37ef60710>"
      ]
     },
     "execution_count": 40,
     "metadata": {},
     "output_type": "execute_result"
    }
   ],
   "source": [
    "da.skipper.trim().isel(chid=0).skipper.modulation({\"row\":slice(512,None), \"col\":slice(348,None)}).skipper.plot_imshow( robust = True )"
   ]
  },
  {
   "cell_type": "code",
   "execution_count": 41,
   "metadata": {},
   "outputs": [
    {
     "data": {
      "text/plain": [
       "<matplotlib.image.AxesImage at 0x7fb37ee27da0>"
      ]
     },
     "execution_count": 41,
     "metadata": {},
     "output_type": "execute_result"
    }
   ],
   "source": [
    "da.skipper.trim().isel(chid=0).skipper.plot_imshow( robust = True )"
   ]
  },
  {
   "cell_type": "code",
   "execution_count": 19,
   "metadata": {},
   "outputs": [],
   "source": [
    "#trimming\n",
    "bins = 500\n",
    "for _, label in [\n",
    "    [da.isel(chid=0, row=slice(2,None), col=slice(0,None)), \"2,0\" ],\n",
    "    [da.isel(chid=0).skipper.trim(), \"trim\"],\n",
    "]:\n",
    "    _.plot.hist( bins=bins, yscale=\"log\", label=label, alpha=.75 )\n",
    "plt.legend();"
   ]
  },
  {
   "cell_type": "code",
   "execution_count": 20,
   "metadata": {},
   "outputs": [
    {
     "data": {
      "application/vnd.jupyter.widget-view+json": {
       "model_id": "a9f01552e2ea487280b3a41f93c8b83a",
       "version_major": 2,
       "version_minor": 0
      },
      "text/plain": [
       "Canvas(toolbar=Toolbar(toolitems=[('Home', 'Reset original view', 'home', 'home'), ('Back', 'Back to previous …"
      ]
     },
     "metadata": {},
     "output_type": "display_data"
    }
   ],
   "source": [
    "g = xr.plot.FacetGrid(da.isel(chid=[0,1]), row=\"chid\", col_wrap=2)\n",
    "for i, ax in enumerate(g.axes.flat):\n",
    "    g.data.isel(chid=i, row=slice(2,None), col=slice(0,None))\\\n",
    "    .plot.hist( bins=bins, yscale=\"log\", label=label, alpha=.75, ax=ax )"
   ]
  },
  {
   "cell_type": "code",
   "execution_count": 21,
   "metadata": {},
   "outputs": [
    {
     "name": "stdout",
     "output_type": "stream",
     "text": [
      "{'col': slice(-50, None, None)}\n",
      "{'col': slice(349, None, None)}\n"
     ]
    }
   ],
   "source": [
    "# demodulate\n",
    "bins = 500\n",
    "for _, label in [\n",
    "    [da.isel(chid=0).skipper.trim().skipper.demodulate(dict(col=slice(-50,None))), \"col-50\" ],\n",
    "    [da.isel(chid=0).skipper.trim().skipper.demodulate(\"col\"), \"col\"],\n",
    "]:\n",
    "    _.plot.hist( bins=bins, yscale=\"log\", label=label, alpha=.75 )\n",
    "plt.legend();"
   ]
  },
  {
   "cell_type": "code",
   "execution_count": 22,
   "metadata": {},
   "outputs": [
    {
     "name": "stdout",
     "output_type": "stream",
     "text": [
      "{'col': slice(-50, None, None)}\n",
      "{'col': slice(-50, None, None)}\n"
     ]
    },
    {
     "data": {
      "text/plain": [
       "[<matplotlib.lines.Line2D at 0x7fb3856cc588>]"
      ]
     },
     "execution_count": 22,
     "metadata": {},
     "output_type": "execute_result"
    }
   ],
   "source": [
    "i = 1\n",
    "conds = np.logical_or( np.logical_or( da.isel(chid=i)[\"col\"] <= 8, da.isel(chid=i)[\"row\"] <= 1 ), abs(da.isel(chid=i)[\"col\"] - 348) <= 1 )\n",
    "da.isel(chid=i)\\\n",
    ".skipper.trim()\\\n",
    ".skipper.demodulate(dict(col=slice(-50,None)))\\\n",
    ".skipper.plot_projection( mode=\"median\", dim=\"row\", hue=\"chid\" )\n",
    "plt.show()\n",
    "da.isel(chid=i)\\\n",
    ".skipper.trim()\\\n",
    ".skipper.demodulate(dict(col=slice(-50,None)))\\\n",
    ".skipper.plot_projection( mode=\"median\", dim=\"col\", hue=\"chid\" )"
   ]
  }
 ],
 "metadata": {
  "kernelspec": {
   "display_name": "Python 3",
   "language": "python",
   "name": "python3"
  },
  "language_info": {
   "codemirror_mode": {
    "name": "ipython",
    "version": 3
   },
   "file_extension": ".py",
   "mimetype": "text/x-python",
   "name": "python",
   "nbconvert_exporter": "python",
   "pygments_lexer": "ipython3",
   "version": "3.6.3"
  }
 },
 "nbformat": 4,
 "nbformat_minor": 4
}
