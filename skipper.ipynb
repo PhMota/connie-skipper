{
 "cells": [
  {
   "cell_type": "markdown",
   "metadata": {},
   "source": [
    "# connie-skipper\n",
    "\n",
    "Repository at [https://github.com/PhMota/connie-skipper](https://github.com/PhMota/connie-skipper)"
   ]
  },
  {
   "cell_type": "code",
   "execution_count": 1,
   "metadata": {},
   "outputs": [],
   "source": [
    "%load_ext autoreload\n",
    "import numpy as np\n",
    "import matplotlib.pyplot as plt\n",
    "import gc\n",
    "from glob import glob"
   ]
  },
  {
   "cell_type": "code",
   "execution_count": 2,
   "metadata": {},
   "outputs": [],
   "source": [
    "%matplotlib widget"
   ]
  },
  {
   "cell_type": "code",
   "execution_count": 3,
   "metadata": {},
   "outputs": [
    {
     "name": "stdout",
     "output_type": "stream",
     "text": [
      "/share/storage2/connie/data/lta/testAngra/09JUL21_sho/skp_masterskp_NROW600_NBINROW1_NCOL500_NBINCOL1_EXPOSURE600_NSAMP400_5.fz\n"
     ]
    }
   ],
   "source": [
    "folder = \"/share/storage2/connie/data/lta/testAngra/\"\n",
    "fpath = f\"{folder}/*/skp_masterskp_NROW600_NBINROW1_NCOL500_NBINCOL1_EXPOSURE600_NSAMP400_5.fz\"\n",
    "fpath = glob(fpath)[0]\n",
    "print( fpath )\n",
    "# fpath = \"imgs/proc_08JUL21_masterskp_NSAMP100_img_3.fits\"#\"imgs/full_masterskp_NSAMP1_img_20.fz\"\n",
    "figures = {}"
   ]
  },
  {
   "cell_type": "code",
   "execution_count": 4,
   "metadata": {},
   "outputs": [],
   "source": [
    "%autoreload 2\n",
    "import xarray as xr\n",
    "import connie_skipper as sk"
   ]
  },
  {
   "cell_type": "code",
   "execution_count": 5,
   "metadata": {},
   "outputs": [],
   "source": [
    "import warnings\n",
    "warnings.simplefilter(\"ignore\", category=xr.core.extensions.AccessorRegistrationWarning)"
   ]
  },
  {
   "cell_type": "code",
   "execution_count": 6,
   "metadata": {},
   "outputs": [],
   "source": [
    "# plt.cla()\n",
    "# plt.clf()\n",
    "# print( gc.collect() )\n",
    "# print( plt.get_fignums() )"
   ]
  },
  {
   "cell_type": "markdown",
   "metadata": {},
   "source": [
    "# interactive widgets"
   ]
  },
  {
   "cell_type": "code",
   "execution_count": 7,
   "metadata": {},
   "outputs": [],
   "source": [
    "from IPython.display import display, IFrame, clear_output\n",
    "from ipywidgets import interact, interactive_output\n",
    "import ipywidgets as widgets"
   ]
  },
  {
   "cell_type": "code",
   "execution_count": 21,
   "metadata": {},
   "outputs": [
    {
     "data": {
      "application/vnd.jupyter.widget-view+json": {
       "model_id": "387ab2d1911847a8be4cad0b70e13005",
       "version_major": 2,
       "version_minor": 0
      },
      "text/plain": [
       "Output()"
      ]
     },
     "metadata": {},
     "output_type": "display_data"
    }
   ],
   "source": [
    "class App:\n",
    "    def __init__(self, rootpath):\n",
    "        self.output = widgets.Output()\n",
    "        self.select = widgets.Select( \n",
    "            options = [ (file.split(rootpath)[-1], file) for file in sorted(glob(rootpath+\"*/skp*.fz\"))[::-1] ], \n",
    "            layout = {'width': '90%'},\n",
    "            rows = 10\n",
    "        )\n",
    "        self.progress = widgets.IntProgress(\n",
    "            value = 0, \n",
    "            min = 0, \n",
    "            max = 10, \n",
    "            description = 'loading'\n",
    "        )\n",
    "        self.app = None\n",
    "        with self.output:\n",
    "            display(self.select, self.progress)\n",
    "        display(self.output)\n",
    "        self.select.observe( \n",
    "            self.plot_from_path2,\n",
    "            names = \"value\"\n",
    "        )\n",
    "        self.interactive_figure = None\n",
    "        \n",
    "    def plot_from_path2(self, path):\n",
    "        self.progress.value = 1\n",
    "        print( path.new )\n",
    "        self.da = sk.fits_to_DataArray( path.new )\n",
    "\n",
    "        self.progress.value = 5\n",
    "        chid_max = len(self.da[\"chid\"].data)-1\n",
    "        samp_max = int(self.da[\"samp\"].data[-1])\n",
    "        app_dict = {}\n",
    "        if self.app is None:\n",
    "            trim = widgets.Checkbox(\n",
    "                description = 'trim', \n",
    "                value = True\n",
    "            )\n",
    "            rowproj = widgets.Checkbox(description='rowproj')\n",
    "            colproj = widgets.Checkbox(description='colproj')\n",
    "            chid = widgets.IntSlider(\n",
    "                value = 0,\n",
    "                min = 0,\n",
    "                max = chid_max,\n",
    "                description = f'chid[0─{chid_max}]'\n",
    "            )\n",
    "            samp = widgets.IntSlider( \n",
    "                value = 0,\n",
    "                min = 0, \n",
    "                max = samp_max,\n",
    "                description = f'samp[0─{samp_max}]'\n",
    "            )\n",
    "            stats = widgets.Dropdown( options=[\"none\", \"median\", \"mean\", \"std\", \"mad\", \"min\", \"max\"], description='stats' )\n",
    "            statsRange = widgets.IntRangeSlider(\n",
    "                value = [0, samp_max+1],\n",
    "                min = 0,\n",
    "                max = samp_max+1,\n",
    "                description = f\"{stats.value}\"\n",
    "            )\n",
    "            stats.observe( lambda opt: setattr(statsRange, \"description\", opt.new), names=\"value\" )\n",
    "            ui = widgets.VBox([ trim, rowproj, colproj, chid, samp, stats, statsRange])\n",
    "            app_dict = {\n",
    "                \"rowproj\": rowproj, \n",
    "                \"colproj\": colproj, \n",
    "                \"trim\": trim, \n",
    "                \"chid\": chid, \n",
    "                \"samp\": samp, \n",
    "                \"stats\": stats, \n",
    "                \"stats_range\": statsRange\n",
    "            } \n",
    "        else:\n",
    "            self.app[\"chid\"].max = chid_max\n",
    "            self.app[\"chid\"].description = f'chid[0─{chid_max}]'\n",
    "            self.app[\"samp\"].max = samp_max\n",
    "            self.app[\"samp\"].description = f'samp[0─{samp_max}]'\n",
    "            self.app[\"stats_range\"].value = [0, samp_max+1]\n",
    "            self.app[\"stats_range\"].max = samp_max+1\n",
    "            app_dict = self.app\n",
    "\n",
    "        self.progress.value = 7\n",
    "        plot = interactive_output( \n",
    "            self.gen_plot, \n",
    "            app_dict\n",
    "        )\n",
    "        self.progress.value = 7\n",
    "        if self.app is None:\n",
    "            with self.output:\n",
    "                display( widgets.HBox([ui,plot]) )\n",
    "            self.app = app_dict\n",
    "        self.progress.value = 10        \n",
    "        \n",
    "    def gen_plot(self, \n",
    "        rowproj, \n",
    "        colproj, \n",
    "        trim, \n",
    "        chid, \n",
    "        samp, \n",
    "        stats, \n",
    "        stats_range\n",
    "    ):\n",
    "        if self.interactive_figure is not None:\n",
    "            self.interactive_figure.clf()\n",
    "        \n",
    "        op = lambda _da: _da.isel(chid=chid)\n",
    "        if stats == \"none\":\n",
    "            stats_str = stats\n",
    "            op = lambda _da, prevop=op: prevop(_da).isel(samp=samp)\n",
    "        else:\n",
    "            stats_str = f\"{stats}({stats_range[0]}, {stats_range[1]})\"\n",
    "            op = lambda _da, prevop=op: prevop(_da).isel(samp=slice(*stats_range)).skipper.stats(dim = \"samp\", mode = stats)\n",
    "        if trim:\n",
    "            op = lambda _da, prevop=op: prevop(_da).skipper.trim()\n",
    "        self.interactive_figure = op(self.da).skipper.plot_full( \n",
    "            robust = True, \n",
    "            fig = self.interactive_figure, \n",
    "            title = \"test\",\n",
    "            xproj = rowproj,\n",
    "            yproj = colproj,\n",
    "            suptitle = f\"chid={chid} samp={samp} stats={stats_str}\"\n",
    "        )\n",
    "\n",
    "App(\"/share/storage2/connie/data/lta/testAngra/\");"
   ]
  },
  {
   "cell_type": "markdown",
   "metadata": {},
   "source": [
    "# load image\n",
    "\n",
    "One image is loaded as a `DataArray` with dimensions `chid`, `row` and `col`.\n",
    "All attributes from the HDUs is kept in the `DataArray`"
   ]
  },
  {
   "cell_type": "markdown",
   "metadata": {},
   "source": [
    "# trimming\n",
    "\n",
    "The defective columns are found inspecting the median projections.\n",
    "`col` 0:8 and 347:349; `row` 0:1 and 511:513 were removed."
   ]
  },
  {
   "cell_type": "markdown",
   "metadata": {},
   "source": [
    "# sampling\n",
    "\n",
    "the sampling is used to generate an median image"
   ]
  },
  {
   "cell_type": "markdown",
   "metadata": {},
   "source": [
    "# modulation\n",
    "\n",
    "The modulation is isolated in the overscans."
   ]
  },
  {
   "cell_type": "markdown",
   "metadata": {},
   "source": [
    "# ipywidgets documentation"
   ]
  },
  {
   "cell_type": "code",
   "execution_count": null,
   "metadata": {},
   "outputs": [],
   "source": [
    "documentation = IFrame(\n",
    "    src = \"https://ipywidgets.readthedocs.io/en/latest/index.html\",\n",
    "    width=\"100%\",\n",
    "    height=400\n",
    ")\n",
    "display(documentation)"
   ]
  }
 ],
 "metadata": {
  "kernelspec": {
   "display_name": "Python 3",
   "language": "python",
   "name": "python3"
  },
  "language_info": {
   "codemirror_mode": {
    "name": "ipython",
    "version": 3
   },
   "file_extension": ".py",
   "mimetype": "text/x-python",
   "name": "python",
   "nbconvert_exporter": "python",
   "pygments_lexer": "ipython3",
   "version": "3.6.3"
  }
 },
 "nbformat": 4,
 "nbformat_minor": 4
}
